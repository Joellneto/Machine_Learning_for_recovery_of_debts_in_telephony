{
 "cells": [
  {
   "cell_type": "markdown",
   "id": "30b0888c",
   "metadata": {},
   "source": [
    "## Dataset, exploratory analysis and baseline comparation"
   ]
  },
  {
   "cell_type": "code",
   "execution_count": 39,
   "id": "fa6aa68b",
   "metadata": {},
   "outputs": [],
   "source": [
    "# imports\n",
    "\n",
    "import numpy as np\n",
    "import pandas as pd\n",
    "from sklearn.linear_model import LogisticRegression\n",
    "from sklearn.neighbors import KNeighborsClassifier\n",
    "from sklearn.tree import DecisionTreeClassifier\n",
    "from sklearn.naive_bayes import GaussianNB\n",
    "from sklearn.svm import LinearSVC\n",
    "from sklearn.model_selection import train_test_split\n",
    "from sklearn.metrics import roc_auc_score, accuracy_score\n",
    "import matplotlib.pyplot as plt"
   ]
  },
  {
   "cell_type": "code",
   "execution_count": 4,
   "id": "f686b3a9",
   "metadata": {},
   "outputs": [
    {
     "name": "stdout",
     "output_type": "stream",
     "text": [
      "Dataset has 848091 rows with 42 columns each.\n",
      "Dataset has 848091 rows with 11 columns each.\n"
     ]
    }
   ],
   "source": [
    "# load original file and count the available columns\n",
    "\n",
    "data = pd.read_csv('Cobrancas_Telefonia.csv',sep=';',decimal=',', encoding = 'ISO-8859-1',low_memory=False)\n",
    "print(\"Dataset has {} rows with {} columns each.\".format(*data.shape))\n",
    "\n",
    "# extract online columns not related to personal identification of the debts\n",
    "\n",
    "cob_cols = ['TIPO_PES','SEXO_PES','ESTADO_CIVIL_PES','IDADE','VALOR_TOTAL','ATRASO','NOME_TIPE','TEVE_DEVOL','CIDADES','UF','RESULTADO']\n",
    "\n",
    "data = data[cob_cols]\n",
    "\n",
    "# convert the class from values \"S\" (yes in portuguese) and \"N\" (No in portuguese) to 1/0\n",
    "class_dict = { 'N' : 0 , 'S': 1} \n",
    "\n",
    "data[\"RESULTADO\"].replace(class_dict, inplace=True)\n",
    "\n",
    "print(\"Dataset has {} rows with {} columns each.\".format(*data.shape))\n",
    "\n",
    "# save the new dataset with the allowed columns\n",
    "\n",
    "data.to_csv('Debts.csv',sep=';', index=False)"
   ]
  },
  {
   "cell_type": "code",
   "execution_count": 7,
   "id": "8022b476",
   "metadata": {},
   "outputs": [
    {
     "data": {
      "text/plain": [
       "TIPO_PES             object\n",
       "SEXO_PES             object\n",
       "ESTADO_CIVIL_PES     object\n",
       "IDADE               float64\n",
       "VALOR_TOTAL         float64\n",
       "ATRASO                int64\n",
       "NOME_TIPE            object\n",
       "TEVE_DEVOL            int64\n",
       "CIDADES              object\n",
       "UF                   object\n",
       "RESULTADO             int64\n",
       "dtype: object"
      ]
     },
     "execution_count": 7,
     "metadata": {},
     "output_type": "execute_result"
    }
   ],
   "source": [
    "# check for columns and types\n",
    "\n",
    "data.dtypes"
   ]
  },
  {
   "cell_type": "code",
   "execution_count": 13,
   "id": "affd1478",
   "metadata": {},
   "outputs": [
    {
     "data": {
      "text/plain": [
       "0    804689\n",
       "1     43402\n",
       "Name: RESULTADO, dtype: int64"
      ]
     },
     "execution_count": 13,
     "metadata": {},
     "output_type": "execute_result"
    }
   ],
   "source": [
    "# check for class distribution\n",
    "\n",
    "classname=\"RESULTADO\"\n",
    "data[classname].value_counts()"
   ]
  },
  {
   "cell_type": "markdown",
   "id": "f13fe945",
   "metadata": {},
   "source": [
    "Only 43.402 rows from positive class - 5,39%"
   ]
  },
  {
   "cell_type": "code",
   "execution_count": 8,
   "id": "bf5aaf35",
   "metadata": {},
   "outputs": [
    {
     "data": {
      "text/html": [
       "<div>\n",
       "<style scoped>\n",
       "    .dataframe tbody tr th:only-of-type {\n",
       "        vertical-align: middle;\n",
       "    }\n",
       "\n",
       "    .dataframe tbody tr th {\n",
       "        vertical-align: top;\n",
       "    }\n",
       "\n",
       "    .dataframe thead th {\n",
       "        text-align: right;\n",
       "    }\n",
       "</style>\n",
       "<table border=\"1\" class=\"dataframe\">\n",
       "  <thead>\n",
       "    <tr style=\"text-align: right;\">\n",
       "      <th></th>\n",
       "      <th>TIPO_PES</th>\n",
       "      <th>SEXO_PES</th>\n",
       "      <th>ESTADO_CIVIL_PES</th>\n",
       "      <th>IDADE</th>\n",
       "      <th>VALOR_TOTAL</th>\n",
       "      <th>ATRASO</th>\n",
       "      <th>NOME_TIPE</th>\n",
       "      <th>TEVE_DEVOL</th>\n",
       "      <th>CIDADES</th>\n",
       "      <th>UF</th>\n",
       "      <th>RESULTADO</th>\n",
       "    </tr>\n",
       "  </thead>\n",
       "  <tbody>\n",
       "    <tr>\n",
       "      <th>0</th>\n",
       "      <td>NaN</td>\n",
       "      <td>M</td>\n",
       "      <td>NaN</td>\n",
       "      <td>11.0</td>\n",
       "      <td>424.71</td>\n",
       "      <td>191</td>\n",
       "      <td>RESIDENCIAL</td>\n",
       "      <td>0</td>\n",
       "      <td>JOAO PESSOA                                   ...</td>\n",
       "      <td>PB</td>\n",
       "      <td>0</td>\n",
       "    </tr>\n",
       "    <tr>\n",
       "      <th>1</th>\n",
       "      <td>NaN</td>\n",
       "      <td>M</td>\n",
       "      <td>C</td>\n",
       "      <td>34.0</td>\n",
       "      <td>43.23</td>\n",
       "      <td>195</td>\n",
       "      <td>RESIDENCIAL</td>\n",
       "      <td>0</td>\n",
       "      <td>FOZ DO IGUACU                                 ...</td>\n",
       "      <td>PR</td>\n",
       "      <td>0</td>\n",
       "    </tr>\n",
       "    <tr>\n",
       "      <th>2</th>\n",
       "      <td>NaN</td>\n",
       "      <td>M</td>\n",
       "      <td>NaN</td>\n",
       "      <td>25.0</td>\n",
       "      <td>274.14</td>\n",
       "      <td>160</td>\n",
       "      <td>RESIDENCIAL</td>\n",
       "      <td>0</td>\n",
       "      <td>CUIABA                                        ...</td>\n",
       "      <td>MT</td>\n",
       "      <td>0</td>\n",
       "    </tr>\n",
       "    <tr>\n",
       "      <th>3</th>\n",
       "      <td>NaN</td>\n",
       "      <td>F</td>\n",
       "      <td></td>\n",
       "      <td>NaN</td>\n",
       "      <td>332.64</td>\n",
       "      <td>219</td>\n",
       "      <td>RESIDENCIAL</td>\n",
       "      <td>0</td>\n",
       "      <td>POUSO ALEGRE                                  ...</td>\n",
       "      <td>MG</td>\n",
       "      <td>0</td>\n",
       "    </tr>\n",
       "    <tr>\n",
       "      <th>4</th>\n",
       "      <td>NaN</td>\n",
       "      <td>M</td>\n",
       "      <td>NaN</td>\n",
       "      <td>46.0</td>\n",
       "      <td>94.75</td>\n",
       "      <td>191</td>\n",
       "      <td>RESIDENCIAL</td>\n",
       "      <td>0</td>\n",
       "      <td>NITEROI                                       ...</td>\n",
       "      <td>RJ</td>\n",
       "      <td>0</td>\n",
       "    </tr>\n",
       "  </tbody>\n",
       "</table>\n",
       "</div>"
      ],
      "text/plain": [
       "  TIPO_PES SEXO_PES ESTADO_CIVIL_PES  IDADE  VALOR_TOTAL  ATRASO    NOME_TIPE  \\\n",
       "0      NaN        M              NaN   11.0       424.71     191  RESIDENCIAL   \n",
       "1      NaN        M                C   34.0        43.23     195  RESIDENCIAL   \n",
       "2      NaN        M              NaN   25.0       274.14     160  RESIDENCIAL   \n",
       "3      NaN        F                     NaN       332.64     219  RESIDENCIAL   \n",
       "4      NaN        M              NaN   46.0        94.75     191  RESIDENCIAL   \n",
       "\n",
       "   TEVE_DEVOL                                            CIDADES  UF  \\\n",
       "0           0  JOAO PESSOA                                   ...  PB   \n",
       "1           0  FOZ DO IGUACU                                 ...  PR   \n",
       "2           0  CUIABA                                        ...  MT   \n",
       "3           0  POUSO ALEGRE                                  ...  MG   \n",
       "4           0  NITEROI                                       ...  RJ   \n",
       "\n",
       "   RESULTADO  \n",
       "0          0  \n",
       "1          0  \n",
       "2          0  \n",
       "3          0  \n",
       "4          0  "
      ]
     },
     "execution_count": 8,
     "metadata": {},
     "output_type": "execute_result"
    }
   ],
   "source": [
    "# check the first rows\n",
    "\n",
    "data.head()"
   ]
  },
  {
   "cell_type": "markdown",
   "id": "9d7d47fa",
   "metadata": {},
   "source": [
    "Lots of null values... and columns with categorical values, like CIDADES, that must be converted with One hot encoding or Label encoding;"
   ]
  },
  {
   "cell_type": "code",
   "execution_count": 11,
   "id": "4ce49815",
   "metadata": {},
   "outputs": [
    {
     "data": {
      "text/plain": [
       "2599"
      ]
     },
     "execution_count": 11,
     "metadata": {},
     "output_type": "execute_result"
    }
   ],
   "source": [
    "# check total possible values for cidades\n",
    "\n",
    "data['CIDADES'].nunique()"
   ]
  },
  {
   "cell_type": "markdown",
   "id": "704829a0",
   "metadata": {},
   "source": [
    "With 2599 possible values, is better no to use one hot encoding, that results in 2599 new columns. Better use label encoding, meaning that each one of the values are assigned to a number (0,1,2,3...) and stored in just one column."
   ]
  },
  {
   "cell_type": "code",
   "execution_count": 9,
   "id": "236e6d64",
   "metadata": {},
   "outputs": [
    {
     "data": {
      "text/html": [
       "<div>\n",
       "<style scoped>\n",
       "    .dataframe tbody tr th:only-of-type {\n",
       "        vertical-align: middle;\n",
       "    }\n",
       "\n",
       "    .dataframe tbody tr th {\n",
       "        vertical-align: top;\n",
       "    }\n",
       "\n",
       "    .dataframe thead th {\n",
       "        text-align: right;\n",
       "    }\n",
       "</style>\n",
       "<table border=\"1\" class=\"dataframe\">\n",
       "  <thead>\n",
       "    <tr style=\"text-align: right;\">\n",
       "      <th></th>\n",
       "      <th>Missing Values</th>\n",
       "      <th>% of Total Values</th>\n",
       "    </tr>\n",
       "  </thead>\n",
       "  <tbody>\n",
       "    <tr>\n",
       "      <th>TIPO_PES</th>\n",
       "      <td>819791</td>\n",
       "      <td>96.663094</td>\n",
       "    </tr>\n",
       "    <tr>\n",
       "      <th>SEXO_PES</th>\n",
       "      <td>771789</td>\n",
       "      <td>91.003088</td>\n",
       "    </tr>\n",
       "    <tr>\n",
       "      <th>ESTADO_CIVIL_PES</th>\n",
       "      <td>824183</td>\n",
       "      <td>97.180963</td>\n",
       "    </tr>\n",
       "    <tr>\n",
       "      <th>IDADE</th>\n",
       "      <td>811616</td>\n",
       "      <td>95.699164</td>\n",
       "    </tr>\n",
       "    <tr>\n",
       "      <th>VALOR_TOTAL</th>\n",
       "      <td>0</td>\n",
       "      <td>0.000000</td>\n",
       "    </tr>\n",
       "    <tr>\n",
       "      <th>ATRASO</th>\n",
       "      <td>0</td>\n",
       "      <td>0.000000</td>\n",
       "    </tr>\n",
       "    <tr>\n",
       "      <th>NOME_TIPE</th>\n",
       "      <td>11</td>\n",
       "      <td>0.001297</td>\n",
       "    </tr>\n",
       "    <tr>\n",
       "      <th>TEVE_DEVOL</th>\n",
       "      <td>0</td>\n",
       "      <td>0.000000</td>\n",
       "    </tr>\n",
       "    <tr>\n",
       "      <th>CIDADES</th>\n",
       "      <td>11</td>\n",
       "      <td>0.001297</td>\n",
       "    </tr>\n",
       "    <tr>\n",
       "      <th>UF</th>\n",
       "      <td>11</td>\n",
       "      <td>0.001297</td>\n",
       "    </tr>\n",
       "    <tr>\n",
       "      <th>RESULTADO</th>\n",
       "      <td>0</td>\n",
       "      <td>0.000000</td>\n",
       "    </tr>\n",
       "  </tbody>\n",
       "</table>\n",
       "</div>"
      ],
      "text/plain": [
       "                  Missing Values  % of Total Values\n",
       "TIPO_PES                  819791          96.663094\n",
       "SEXO_PES                  771789          91.003088\n",
       "ESTADO_CIVIL_PES          824183          97.180963\n",
       "IDADE                     811616          95.699164\n",
       "VALOR_TOTAL                    0           0.000000\n",
       "ATRASO                         0           0.000000\n",
       "NOME_TIPE                     11           0.001297\n",
       "TEVE_DEVOL                     0           0.000000\n",
       "CIDADES                       11           0.001297\n",
       "UF                            11           0.001297\n",
       "RESULTADO                      0           0.000000"
      ]
     },
     "execution_count": 9,
     "metadata": {},
     "output_type": "execute_result"
    }
   ],
   "source": [
    "def missing_values_table(df): \n",
    "        mis_val = df.isnull().sum()\n",
    "        mis_val_percent = 100 * df.isnull().sum()/len(df)\n",
    "        mis_val_table = pd.concat([mis_val, mis_val_percent], axis=1)\n",
    "        mis_val_table_ren_columns = mis_val_table.rename(\n",
    "        columns = {0 : 'Missing Values', 1 : '% of Total Values'})\n",
    "        return mis_val_table_ren_columns \n",
    "    \n",
    "missing_values_table(data)"
   ]
  },
  {
   "cell_type": "code",
   "execution_count": 15,
   "id": "e94563e3",
   "metadata": {},
   "outputs": [],
   "source": [
    "# repair the null values, using:\n",
    "# - the most common value for categoric attributes\n",
    "# - the mean value for numeric attributes\n",
    "\n",
    "for col, col_type in data.dtypes.iteritems():\n",
    "    if col != classname:\n",
    "        if col_type == 'O':\n",
    "            data[col].fillna(data[col].value_counts().index[0], inplace=True)\n",
    "        else:\n",
    "            data[col].fillna(data[col].median(), inplace=True)"
   ]
  },
  {
   "cell_type": "code",
   "execution_count": 21,
   "id": "166273f9",
   "metadata": {},
   "outputs": [
    {
     "name": "stdout",
     "output_type": "stream",
     "text": [
      "Column SEXO_PES has 4 distinct values, using label encoder\n",
      "Column ESTADO_CIVIL_PES has 12 distinct values, using label encoder\n",
      "Column NOME_TIPE has 4 distinct values, using label encoder\n",
      "Column CIDADES has 2599 distinct values, using label encoder\n",
      "Column UF has 27 distinct values, using label encoder\n"
     ]
    }
   ],
   "source": [
    "# apply label encoder on categoric attributes\n",
    "\n",
    "for col, col_type in data.dtypes.iteritems():\n",
    "    if col != classname:\n",
    "        if col_type == 'O':\n",
    "            data[col] = data[col].astype('category')\n",
    "            print(\"Column \" + col + \" has \" + str(len(data[col].cat.categories)) + \" distinct values, using label encoder\")    \n",
    "            data[col] = data[col].cat.codes"
   ]
  },
  {
   "cell_type": "code",
   "execution_count": 41,
   "id": "a60c5bdf",
   "metadata": {},
   "outputs": [
    {
     "name": "stdout",
     "output_type": "stream",
     "text": [
      "LogisticRegression - Train perf.: 62.69% - Tests perf: 62.57% - Accuracy: 0.6256905181612908 - AUC: 0.6135234559669627\n",
      "SVC - Train perf.: 94.90% - Tests perf: 94.81% - Accuracy: 0.9480836462896256 - AUC: 0.5124703700983019\n",
      "DecisionTree - Train perf.: 99.94% - Tests perf: 99.68% - Accuracy: 0.9967810209941104 - AUC: 0.980407329784264\n",
      "NB - Train perf.: 91.56% - Tests perf: 91.55% - Accuracy: 0.9155460178399826 - AUC: 0.610747809479365\n",
      "KNN - Train perf.: 98.48% - Tests perf: 97.30% - Accuracy: 0.972951143445015 - AUC: 0.9497255325832801\n"
     ]
    },
    {
     "data": {
      "image/png": "[encoded data removed]",
      "text/plain": [
       "<Figure size 432x288 with 1 Axes>"
      ]
     },
     "metadata": {
      "needs_background": "light"
     },
     "output_type": "display_data"
    }
   ],
   "source": [
    "# create a baseline comparation with 5 common classifiers\n",
    "# important! All classifiers uses the parameter class_weight ='balanced', to adjust the class imbalance\n",
    "# use metrics accuracy and AUC weighted, to better compare with others results in Azure AutoML\n",
    "\n",
    "import warnings\n",
    "from sklearn.exceptions import ConvergenceWarning\n",
    "warnings.simplefilter('ignore', category=ConvergenceWarning)\n",
    "\n",
    "classifiers={ 'LogisticRegression' : LogisticRegression(class_weight='balanced', random_state=50),\n",
    "              'SVC' : LinearSVC(class_weight='balanced',random_state=50),\n",
    "              'DecisionTree': DecisionTreeClassifier(class_weight ='balanced',random_state=50),\n",
    "              'NB' : GaussianNB(),\n",
    "              'KNN' : KNeighborsClassifier()\n",
    "            }\n",
    "\n",
    "def do_train(title,df,clf,classname,percentual):\n",
    "    x = df[df.columns.difference([classname])]\n",
    "    y = df[classname]\n",
    "    \n",
    "    X_train, X_test, y_train, y_test = train_test_split(x, y, test_size=percentual, random_state=50)\n",
    "   \n",
    "    clf.fit(X_train, y_train)\n",
    "    \n",
    "    score_train = clf.score(X_train, y_train)\n",
    "    score_tests = clf.score(X_test, y_test)\n",
    "    \n",
    "    y_pred = clf.predict(X_test)\n",
    "    \n",
    "    accuracy = accuracy_score(y_test, y_pred)\n",
    "\n",
    "    # uses decision_function in some classifiers (LogisticRegression, SVC) and predict_proba in others (DecisionTree, NB, KNN)\n",
    "    if  callable(getattr(clf, \"decision_function\", None)):\n",
    "        auc_weighted = roc_auc_score(y_test,clf.decision_function(X_test))\n",
    "    else:\n",
    "        auc_weighted = roc_auc_score(y_test,clf.predict_proba(X_test)[:,1])\n",
    "    \n",
    "    train_perf = '{:.2f}'.format(float(score_train)*100)\n",
    "    test_perf = '{:.2f}'.format(float(score_tests)*100)\n",
    "    print(title + ' - Train perf.: ' + train_perf + '% - Tests perf: ' + test_perf + '%' + ' - Accuracy: ' + str(accuracy) + ' - AUC: ' + str(auc_weighted))\n",
    "    return auc_weighted\n",
    "    \n",
    "results = []\n",
    "names = []\n",
    "for title, model in classifiers.items():\n",
    "    auc = do_train(title,data,model,'RESULTADO',0.20)\n",
    "    results.append(auc)\n",
    "    names.append(title)\n",
    "\n",
    "fig = plt.figure()\n",
    "fig.suptitle('Baseline algorithms comparation - AUC Weighted score')\n",
    "ax = fig.add_subplot(111)\n",
    "ind = np.arange(1, len(classifiers.keys())+1)\n",
    "plt.bar(ind,results)\n",
    "ax.set_xticks(ind)\n",
    "ax.set_xticklabels(names)\n",
    "plt.xticks(rotation=90)\n",
    "plt.show()"
   ]
  },
  {
   "cell_type": "markdown",
   "id": "11df42b2",
   "metadata": {},
   "source": [
    "As seen in the graph, the best algorithm for the dataset was DecisionTree, with Accuracy of 0.996 and AUC of 0.980, classifying almost 100% of training and testing records correctly."
   ]
  },
  {
   "cell_type": "markdown",
   "id": "4db6a02c",
   "metadata": {},
   "source": [
    "This will be the algorithm to be used for tuning hyperparameters with Azure Hyperdrive."
   ]
  },
  {
   "cell_type": "code",
   "execution_count": null,
   "id": "78e1ae96",
   "metadata": {},
   "outputs": [],
   "source": []
  }
 ],
 "metadata": {
  "kernelspec": {
   "display_name": "Python 3",
   "language": "python",
   "name": "python3"
  },
  "language_info": {
   "codemirror_mode": {
    "name": "ipython",
    "version": 3
   },
   "file_extension": ".py",
   "mimetype": "text/x-python",
   "name": "python",
   "nbconvert_exporter": "python",
   "pygments_lexer": "ipython3",
   "version": "3.8.5"
  }
 },
 "nbformat": 4,
 "nbformat_minor": 5
}
