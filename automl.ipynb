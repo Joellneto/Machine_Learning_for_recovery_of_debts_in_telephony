{
 "cells": [
  {
   "cell_type": "markdown",
   "metadata": {},
   "source": [
    "# Automated ML\n",
    "\n",
    "TODO: Import Dependencies. In the cell below, import all the dependencies that you will need to complete the project."
   ]
  },
  {
   "cell_type": "code",
   "execution_count": 19,
   "metadata": {
    "gather": {
     "logged": 1598423888013
    },
    "jupyter": {
     "outputs_hidden": false,
     "source_hidden": false
    },
    "nteract": {
     "transient": {
      "deleting": false
     }
    }
   },
   "outputs": [],
   "source": [
    "from azureml.core import Workspace, Experiment\n",
    "from azureml.data.dataset_factory import TabularDatasetFactory\n",
    "from azureml.core.compute import ComputeTarget, AmlCompute\n",
    "from azureml.core.compute_target import ComputeTargetException\n",
    "from azureml.train.automl import AutoMLConfig\n",
    "from azureml.widgets import RunDetails\n",
    "import joblib\n",
    "from azureml.core.webservice import AciWebservice\n",
    "from azureml.core import Environment\n",
    "from azureml.core.model import InferenceConfig, Model\n",
    "import requests\n",
    "import json"
   ]
  },
  {
   "cell_type": "markdown",
   "metadata": {},
   "source": [
    "## Dataset\n",
    "\n",
    "### Overview\n",
    "This database was obtained from a credit recovery consultancy a few years ago, and corresponds to real records on which collection actions must be taken. The main task consists of identifying the records most likely to be paid, and use the machine learning models to predict future behavior.\n",
    "\n",
    "\n",
    "TODO: Get data. In the cell below, write code to access the data you will be using in this project. Remember that the dataset needs to be external."
   ]
  },
  {
   "cell_type": "code",
   "execution_count": 2,
   "metadata": {
    "gather": {
     "logged": 1598423890461
    },
    "jupyter": {
     "outputs_hidden": false,
     "source_hidden": false
    },
    "nteract": {
     "transient": {
      "deleting": false
     }
    }
   },
   "outputs": [],
   "source": [
    "# get the current workspace\n",
    "\n",
    "ws = Workspace.from_config()"
   ]
  },
  {
   "cell_type": "code",
   "execution_count": 3,
   "metadata": {},
   "outputs": [
    {
     "data": {
      "text/plain": [
       "{\n",
       "  \"source\": [\n",
       "    \"https://www.jlnsoftware.com.br/azure_ml/Debts.csv\"\n",
       "  ],\n",
       "  \"definition\": [\n",
       "    \"GetFiles\",\n",
       "    \"ParseDelimited\",\n",
       "    \"DropColumns\",\n",
       "    \"SetColumnTypes\"\n",
       "  ],\n",
       "  \"registration\": {\n",
       "    \"id\": \"a586f540-3962-433d-89ce-9c0f53553fd0\",\n",
       "    \"name\": \"Debts\",\n",
       "    \"version\": 1,\n",
       "    \"description\": \"Debts dataset from Brazilian Telefony Company\",\n",
       "    \"workspace\": \"Workspace.create(name='quick-starts-ws-259246', subscription_id='aa7cf8e8-d23f-4bce-a7b9-1f0b4e0ac8ee', resource_group='aml-quickstarts-259246')\"\n",
       "  }\n",
       "}"
      ]
     },
     "execution_count": 3,
     "metadata": {},
     "output_type": "execute_result"
    }
   ],
   "source": [
    "# create the dataset, if not exists\n",
    "\n",
    "found = False\n",
    "key = \"Debts\"\n",
    "description_text = \"Debts dataset from Brazilian Telefony Company\"\n",
    "\n",
    "if key in ws.datasets.keys(): \n",
    "        found = True\n",
    "        dataset = ws.datasets[key] \n",
    "if not found:\n",
    "        # Create AML Dataset and register it into Workspace\n",
    "        example_data = 'https://www.jlnsoftware.com.br/azure_ml/Debts.csv'\n",
    "        dataset = TabularDatasetFactory.from_delimited_files(example_data,separator=\";\")        \n",
    "        #Register Dataset in Workspace\n",
    "        dataset = dataset.register(workspace=ws,\n",
    "                                   name=key,\n",
    "                                   description=description_text)\n",
    "dataset"
   ]
  },
  {
   "cell_type": "code",
   "execution_count": 4,
   "metadata": {},
   "outputs": [
    {
     "name": "stdout",
     "output_type": "stream",
     "text": [
      "InProgress..\n",
      "SucceededProvisioning operation finished, operation \"Succeeded\"\n",
      "Succeeded...................\n",
      "AmlCompute wait for completion finished\n",
      "\n",
      "Minimum number of nodes requested have been provisioned\n"
     ]
    }
   ],
   "source": [
    "# create the cluster, if not exists\n",
    "\n",
    "amlcompute_cluster_name = \"cluster-6-ds3-v2\"\n",
    "\n",
    "# Verify that cluster does not exist already\n",
    "try:\n",
    "    compute_target = ComputeTarget(workspace=ws, name=amlcompute_cluster_name)\n",
    "    print('Found existing cluster, use it.')\n",
    "except ComputeTargetException:\n",
    "    compute_config = AmlCompute.provisioning_configuration(vm_size='STANDARD_D3_V2',\n",
    "                                                           vm_priority = 'dedicated',\n",
    "                                                           min_nodes=1,\n",
    "                                                           max_nodes=6)\n",
    "    compute_target = ComputeTarget.create(ws, amlcompute_cluster_name, compute_config)\n",
    "\n",
    "compute_target.wait_for_completion(show_output=True, min_node_count = 1, timeout_in_minutes = 10)"
   ]
  },
  {
   "cell_type": "code",
   "execution_count": 5,
   "metadata": {},
   "outputs": [],
   "source": [
    "# choose a name for experiment\n",
    "experiment_name = 'Debts-AutoML'\n",
    "experiment=Experiment(ws, experiment_name)"
   ]
  },
  {
   "cell_type": "markdown",
   "metadata": {},
   "source": [
    "## AutoML Configuration\n",
    "\n",
    "TODO: Explain why you chose the automl settings and cofiguration you used below."
   ]
  },
  {
   "cell_type": "code",
   "execution_count": 6,
   "metadata": {
    "gather": {
     "logged": 1598429217746
    },
    "jupyter": {
     "outputs_hidden": false,
     "source_hidden": false
    },
    "nteract": {
     "transient": {
      "deleting": false
     }
    }
   },
   "outputs": [],
   "source": [
    "# create AutoML config\n",
    "\n",
    "automl_settings = {\n",
    "    \"experiment_timeout_minutes\": 60,\n",
    "    \"max_concurrent_iterations\": 5,\n",
    "    \"primary_metric\" : 'AUC_weighted',\n",
    "    \"enable_onnx_compatible_models\" : True\n",
    "}\n",
    "automl_config = AutoMLConfig(compute_target=compute_target,\n",
    "                             task = \"classification\",\n",
    "                             training_data=dataset,\n",
    "                             label_column_name=\"RESULTADO\",   \n",
    "                             path = './debts-project',\n",
    "                             enable_early_stopping= True,\n",
    "                             featurization= 'auto',\n",
    "                             debug_log = \"automl_errors.log\",\n",
    "                             **automl_settings\n",
    "                            )"
   ]
  },
  {
   "cell_type": "code",
   "execution_count": 7,
   "metadata": {
    "gather": {
     "logged": 1598431107951
    },
    "jupyter": {
     "outputs_hidden": false,
     "source_hidden": false
    },
    "nteract": {
     "transient": {
      "deleting": false
     }
    }
   },
   "outputs": [
    {
     "name": "stdout",
     "output_type": "stream",
     "text": [
      "Submitting remote run.\n",
      "No run_configuration provided, running on cluster-6-ds3-v2 with default configuration\n",
      "Running on remote compute: cluster-6-ds3-v2\n"
     ]
    },
    {
     "data": {
      "text/html": [
       "<table style=\"width:100%\"><tr><th>Experiment</th><th>Id</th><th>Type</th><th>Status</th><th>Details Page</th><th>Docs Page</th></tr><tr><td>Debts-AutoML</td><td>AutoML_1381d957-e54f-4dfe-a306-e06771ae17b0</td><td>automl</td><td>NotStarted</td><td><a href=\"https://ml.azure.com/runs/AutoML_1381d957-e54f-4dfe-a306-e06771ae17b0?wsid=/subscriptions/aa7cf8e8-d23f-4bce-a7b9-1f0b4e0ac8ee/resourcegroups/aml-quickstarts-259246/workspaces/quick-starts-ws-259246&amp;tid=660b3398-b80e-49d2-bc5b-ac1dc93b5254\" target=\"_blank\" rel=\"noopener\">Link to Azure Machine Learning studio</a></td><td><a href=\"https://docs.microsoft.com/en-us/python/api/overview/azure/ml/intro?view=azure-ml-py\" target=\"_blank\" rel=\"noopener\">Link to Documentation</a></td></tr></table>"
      ]
     },
     "metadata": {},
     "output_type": "display_data"
    },
    {
     "name": "stdout",
     "output_type": "stream",
     "text": [
      "\n",
      "Current status: DatasetEvaluation. Gathering dataset statistics.\n",
      "Current status: FeaturesGeneration. Generating features for the dataset.\n",
      "Current status: DatasetFeaturization. Beginning to fit featurizers and featurize the dataset.\n",
      "Current status: DatasetBalancing. Performing class balancing sweeping\n",
      "Current status: ModelSelection. Beginning model selection.\n",
      "\n",
      "********************************************************************************************\n",
      "DATA GUARDRAILS: \n",
      "\n",
      "TYPE:         Train-Test data split\n",
      "STATUS:       DONE\n",
      "DESCRIPTION:  In order to accurately evaluate the model(s) trained by AutoML, we leverage a dataset that the model is not trained on. Hence, if the user doesn't provide an explicit validation dataset, a part of the training dataset is used to achieve this. For smaller datasets (fewer than 20,000 samples), cross-validation is leveraged, else a single hold-out set is split from the training data to serve as the validation dataset. Hence, your input data has been split into a training dataset and a holdout validation dataset.\n",
      "              Learn more about validation data: https://aka.ms/AutomatedMLDataSplit\n",
      "DETAILS:      \n",
      "+------------------------------+------------------------------+------------------------------+\n",
      "|Dataset                       |Row counts                    |Percentage                    |\n",
      "+==============================+==============================+==============================+\n",
      "|train                         |763281                        |89.99989387931248             |\n",
      "|test                          |84810                         |10.000106120687521            |\n",
      "+------------------------------+------------------------------+------------------------------+\n",
      "\n",
      "********************************************************************************************\n",
      "\n",
      "TYPE:         Class balancing detection\n",
      "STATUS:       ALERTED\n",
      "DESCRIPTION:  To decrease model bias, please cancel the current run and fix balancing problem.\n",
      "              Learn more about imbalanced data: https://aka.ms/AutomatedMLImbalancedData\n",
      "DETAILS:      Imbalanced data can lead to a falsely perceived positive effect of a model's accuracy because the input data has bias towards one class.\n",
      "+------------------------------+--------------------------------+--------------------------------------+\n",
      "|Size of the smallest class    |Name/Label of the smallest class|Number of samples in the training data|\n",
      "+==============================+================================+======================================+\n",
      "|39062                         |1                               |763281                                |\n",
      "+------------------------------+--------------------------------+--------------------------------------+\n",
      "\n",
      "********************************************************************************************\n",
      "\n",
      "TYPE:         Missing feature values imputation\n",
      "STATUS:       DONE\n",
      "DESCRIPTION:  If the missing values are expected, let the run complete. Otherwise cancel the current run and use a script to customize the handling of missing feature values that may be more appropriate based on the data type and business requirement.\n",
      "              Learn more about missing value imputation: https://aka.ms/AutomatedMLFeaturization\n",
      "DETAILS:      \n",
      "+------------------------------+------------------------------+------------------------------+\n",
      "|Column name                   |Missing value count           |Imputation type               |\n",
      "+==============================+==============================+==============================+\n",
      "|SEXO_PES                      |694769                        |                              |\n",
      "|ESTADO_CIVIL_PES              |741847                        |                              |\n",
      "|IDADE                         |730604                        |mean                          |\n",
      "|NOME_TIPE                     |10                            |                              |\n",
      "|UF                            |10                            |                              |\n",
      "+------------------------------+------------------------------+------------------------------+\n",
      "\n",
      "********************************************************************************************\n",
      "\n",
      "TYPE:         High cardinality feature detection\n",
      "STATUS:       PASSED\n",
      "DESCRIPTION:  Your inputs were analyzed, and no high cardinality features were detected.\n",
      "              Learn more about high cardinality feature handling: https://aka.ms/AutomatedMLFeaturization\n",
      "\n",
      "********************************************************************************************\n",
      "\n",
      "********************************************************************************************\n",
      "ITER: The iteration being evaluated.\n",
      "PIPELINE: A summary description of the pipeline being evaluated.\n",
      "DURATION: Time taken for the current iteration.\n",
      "METRIC: The result of computing score on the fitted pipeline.\n",
      "BEST: The best observed score thus far.\n",
      "********************************************************************************************\n",
      "\n",
      " ITER   PIPELINE                                       DURATION            METRIC      BEST\n",
      "    0   MaxAbsScaler LightGBM                          0:00:21             0.7865    0.7865\n",
      "    1   MaxAbsScaler XGBoostClassifier                 0:01:09             0.7852    0.7865\n",
      "    2   MaxAbsScaler ExtremeRandomTrees                0:00:24             0.6667    0.7865\n",
      "    3   MaxAbsScaler RandomForest                      0:00:14             0.5224    0.7865\n",
      "    4   StandardScalerWrapper LightGBM                 0:00:15             0.6780    0.7865\n",
      "    5   SparseNormalizer XGBoostClassifier             0:00:26             0.7007    0.7865\n",
      "    6   SparseNormalizer RandomForest                  0:00:41             0.6789    0.7865\n",
      "    7   StandardScalerWrapper XGBoostClassifier        0:00:20             0.7278    0.7865\n",
      "   12   StandardScalerWrapper XGBoostClassifier        0:00:34             0.7062    0.7865\n",
      "    8   SparseNormalizer XGBoostClassifier             0:00:41             0.7405    0.7865\n",
      "   13   StandardScalerWrapper ExtremeRandomTrees       0:00:24             0.6424    0.7865\n",
      "    9   MaxAbsScaler RandomForest                      0:00:19             0.5706    0.7865\n",
      "   10   SparseNormalizer LightGBM                      0:00:17             0.6738    0.7865\n",
      "   16   MaxAbsScaler LogisticRegression                0:00:43             0.7273    0.7865\n",
      "   11   MaxAbsScaler ExtremeRandomTrees                0:01:15             0.6325    0.7865\n",
      "   17   StandardScalerWrapper ExtremeRandomTrees       0:08:05             0.6870    0.7865\n",
      "   18   StandardScalerWrapper XGBoostClassifier        0:00:24             0.7270    0.7865\n",
      "   19   MaxAbsScaler ExtremeRandomTrees                0:00:47             0.6444    0.7865\n",
      "   20   MaxAbsScaler LogisticRegression                0:00:42             0.7148    0.7865\n",
      "   21   StandardScalerWrapper XGBoostClassifier        0:01:15             0.7028    0.7865\n",
      "   23   MaxAbsScaler RandomForest                      0:00:38             0.6682    0.7865\n",
      "   25   SparseNormalizer XGBoostClassifier             0:00:52             0.7038    0.7865\n",
      "   24   StandardScalerWrapper LightGBM                 0:00:46             0.7204    0.7865\n",
      "   22   StandardScalerWrapper XGBoostClassifier        0:03:40             0.7739    0.7865\n",
      "   26   MaxAbsScaler LightGBM                          0:00:39             0.7144    0.7865\n",
      "   27   StandardScalerWrapper LightGBM                 0:00:40             0.6131    0.7865\n",
      "   30   SparseNormalizer LightGBM                      0:00:38             0.6857    0.7865\n",
      "   29   MaxAbsScaler LogisticRegression                0:01:20             0.7222    0.7865\n",
      "   31   SparseNormalizer XGBoostClassifier             0:00:55             0.7632    0.7865\n",
      "   28   MaxAbsScaler LogisticRegression                0:02:07             0.7205    0.7865\n",
      "   34   StandardScalerWrapper LightGBM                 0:00:57             0.7385    0.7865\n",
      "   35   SparseNormalizer XGBoostClassifier             0:02:52             0.7802    0.7865\n",
      "   32   SparseNormalizer XGBoostClassifier             0:04:22             0.7903    0.7903\n",
      "   37   SparseNormalizer XGBoostClassifier             0:01:08             0.8201    0.8201\n",
      "   38   SparseNormalizer XGBoostClassifier             0:01:08             0.9129    0.9129\n",
      "   39   SparseNormalizer XGBoostClassifier             0:01:33             0.8386    0.9129\n",
      "   36   SparseNormalizer XGBoostClassifier             0:04:03             0.7828    0.9129\n",
      "   14   StandardScalerWrapper RandomForest             0:24:22             0.9983    0.9983\n",
      "   15   MaxAbsScaler LightGBM                          0:00:30             0.7729    0.9983\n",
      "   41   SparseNormalizer XGBoostClassifier             0:03:00             0.6745    0.9983\n",
      "   44   MaxAbsScaler SGD                               0:00:41             0.7175    0.9983\n",
      "   33   StandardScalerWrapper XGBoostClassifier        0:11:56             0.7737    0.9983\n",
      "   42   StandardScalerWrapper LogisticRegression       0:01:31             0.7252    0.9983\n",
      "   43   StandardScalerWrapper LogisticRegression       0:01:24             0.7345    0.9983\n",
      "   46   StandardScalerWrapper LogisticRegression       0:01:05             0.7348    0.9983\n",
      "   47   StandardScalerWrapper XGBoostClassifier        0:00:49             0.6825    0.9983\n",
      "   49   StandardScalerWrapper DecisionTree             0:00:40             0.7141    0.9983\n",
      "   45   TruncatedSVDWrapper RandomForest               0:03:16             0.6517    0.9983\n",
      "   51   SparseNormalizer XGBoostClassifier             0:00:43             0.7264    0.9983\n",
      "   50   TruncatedSVDWrapper RandomForest               0:02:50             0.6586    0.9983\n",
      "   52   StandardScalerWrapper XGBoostClassifier        0:01:17             0.9546    0.9983\n",
      "   40   SparseNormalizer XGBoostClassifier             0:09:30                nan    0.9983\n",
      "   48   StandardScalerWrapper LogisticRegression       0:04:39             0.7259    0.9983\n",
      "   53   StandardScalerWrapper XGBoostClassifier        0:01:23                nan    0.9983\n",
      "   54   StandardScalerWrapper XGBoostClassifier        0:00:34                nan    0.9983\n",
      "   55                                                  0:00:04                nan    0.9983\n",
      "   56    VotingEnsemble                                0:05:43             0.9985    0.9985\n"
     ]
    }
   ],
   "source": [
    "# TODO: Submit your experiment\n",
    "\n",
    "remote_run = experiment.submit(automl_config, show_output = True)"
   ]
  },
  {
   "cell_type": "markdown",
   "metadata": {},
   "source": [
    "## Run Details\n",
    "\n",
    "OPTIONAL: Write about the different models trained and their performance. Why do you think some models did better than others?\n",
    "\n",
    "TODO: In the cell below, use the `RunDetails` widget to show the different experiments."
   ]
  },
  {
   "cell_type": "code",
   "execution_count": 10,
   "metadata": {
    "gather": {
     "logged": 1598431121770
    },
    "jupyter": {
     "outputs_hidden": false,
     "source_hidden": false
    },
    "nteract": {
     "transient": {
      "deleting": false
     }
    }
   },
   "outputs": [
    {
     "data": {
      "application/vnd.jupyter.widget-view+json": {
       "model_id": "21e382321b044bc5ac02c5eced8f8900",
       "version_major": 2,
       "version_minor": 0
      },
      "text/plain": [
       "_AutoMLWidget(widget_settings={'childWidgetDisplay': 'popup', 'send_telemetry': False, 'log_level': 'INFO', 's…"
      ]
     },
     "metadata": {},
     "output_type": "display_data"
    },
    {
     "data": {
      "application/aml.mini.widget.v1": "{\"status\": \"Completed\", \"workbench_run_details_uri\": \"https://ml.azure.com/runs/AutoML_1381d957-e54f-4dfe-a306-e06771ae17b0?wsid=/subscriptions/aa7cf8e8-d23f-4bce-a7b9-1f0b4e0ac8ee/resourcegroups/aml-quickstarts-259246/workspaces/quick-starts-ws-259246&tid=660b3398-b80e-49d2-bc5b-ac1dc93b5254\", \"run_id\": \"AutoML_1381d957-e54f-4dfe-a306-e06771ae17b0\", \"run_properties\": {\"run_id\": \"AutoML_1381d957-e54f-4dfe-a306-e06771ae17b0\", \"created_utc\": \"2024-05-16T17:37:38.110541Z\", \"properties\": {\"num_iterations\": \"1000\", \"training_type\": \"TrainFull\", \"acquisition_function\": \"EI\", \"primary_metric\": \"AUC_weighted\", \"train_split\": \"0\", \"acquisition_parameter\": \"0\", \"num_cross_validation\": null, \"target\": \"cluster-6-ds3-v2\", \"AMLSettingsJsonString\": \"{\\\"path\\\":null,\\\"name\\\":\\\"Debts-AutoML\\\",\\\"subscription_id\\\":\\\"aa7cf8e8-d23f-4bce-a7b9-1f0b4e0ac8ee\\\",\\\"resource_group\\\":\\\"aml-quickstarts-259246\\\",\\\"workspace_name\\\":\\\"quick-starts-ws-259246\\\",\\\"region\\\":\\\"westus2\\\",\\\"compute_target\\\":\\\"cluster-6-ds3-v2\\\",\\\"spark_service\\\":null,\\\"azure_service\\\":\\\"remote\\\",\\\"many_models\\\":false,\\\"pipeline_fetch_max_batch_size\\\":1,\\\"enable_batch_run\\\":true,\\\"enable_parallel_run\\\":false,\\\"num_procs\\\":null,\\\"enable_run_restructure\\\":false,\\\"start_auxiliary_runs_before_parent_complete\\\":false,\\\"enable_code_generation\\\":true,\\\"iterations\\\":1000,\\\"primary_metric\\\":\\\"AUC_weighted\\\",\\\"task_type\\\":\\\"classification\\\",\\\"positive_label\\\":null,\\\"data_script\\\":null,\\\"test_size\\\":0.0,\\\"test_include_predictions_only\\\":false,\\\"validation_size\\\":0.0,\\\"n_cross_validations\\\":null,\\\"y_min\\\":null,\\\"y_max\\\":null,\\\"num_classes\\\":null,\\\"featurization\\\":\\\"auto\\\",\\\"_ignore_package_version_incompatibilities\\\":false,\\\"is_timeseries\\\":false,\\\"max_cores_per_iteration\\\":1,\\\"max_concurrent_iterations\\\":5,\\\"iteration_timeout_minutes\\\":null,\\\"mem_in_mb\\\":null,\\\"enforce_time_on_windows\\\":false,\\\"experiment_timeout_minutes\\\":60,\\\"experiment_exit_score\\\":null,\\\"partition_column_names\\\":null,\\\"whitelist_models\\\":null,\\\"blacklist_algos\\\":[\\\"TensorFlowLinearClassifier\\\",\\\"TensorFlowDNN\\\"],\\\"supported_models\\\":[\\\"MultinomialNaiveBayes\\\",\\\"AveragedPerceptronClassifier\\\",\\\"TensorFlowLinearClassifier\\\",\\\"LightGBM\\\",\\\"TabnetClassifier\\\",\\\"TensorFlowDNN\\\",\\\"BernoulliNaiveBayes\\\",\\\"KNN\\\",\\\"DecisionTree\\\",\\\"SGD\\\",\\\"XGBoostClassifier\\\",\\\"LinearSVM\\\",\\\"LogisticRegression\\\",\\\"SVM\\\",\\\"RandomForest\\\",\\\"GradientBoosting\\\",\\\"ExtremeRandomTrees\\\"],\\\"private_models\\\":[],\\\"auto_blacklist\\\":true,\\\"blacklist_samples_reached\\\":false,\\\"exclude_nan_labels\\\":true,\\\"verbosity\\\":20,\\\"_debug_log\\\":\\\"azureml_automl.log\\\",\\\"show_warnings\\\":false,\\\"model_explainability\\\":true,\\\"service_url\\\":null,\\\"sdk_url\\\":null,\\\"sdk_packages\\\":null,\\\"enable_onnx_compatible_models\\\":true,\\\"enable_split_onnx_featurizer_estimator_models\\\":false,\\\"vm_type\\\":\\\"STANDARD_D3_V2\\\",\\\"telemetry_verbosity\\\":20,\\\"send_telemetry\\\":true,\\\"enable_dnn\\\":false,\\\"scenario\\\":\\\"AutoML\\\",\\\"environment_label\\\":null,\\\"save_mlflow\\\":false,\\\"enable_categorical_indicators\\\":false,\\\"force_text_dnn\\\":false,\\\"enable_feature_sweeping\\\":false,\\\"enable_early_stopping\\\":true,\\\"early_stopping_n_iters\\\":10,\\\"arguments\\\":null,\\\"dataset_id\\\":\\\"a586f540-3962-433d-89ce-9c0f53553fd0\\\",\\\"hyperdrive_config\\\":null,\\\"validation_dataset_id\\\":null,\\\"run_source\\\":null,\\\"metrics\\\":null,\\\"enable_metric_confidence\\\":false,\\\"enable_ensembling\\\":true,\\\"enable_stack_ensembling\\\":false,\\\"ensemble_iterations\\\":15,\\\"enable_tf\\\":false,\\\"enable_subsampling\\\":null,\\\"subsample_seed\\\":null,\\\"enable_nimbusml\\\":false,\\\"enable_streaming\\\":false,\\\"force_streaming\\\":false,\\\"track_child_runs\\\":true,\\\"n_best_runs\\\":1,\\\"allowed_private_models\\\":[],\\\"label_column_name\\\":\\\"RESULTADO\\\",\\\"weight_column_name\\\":null,\\\"cv_split_column_names\\\":null,\\\"enable_local_managed\\\":false,\\\"_local_managed_run_id\\\":null,\\\"cost_mode\\\":1,\\\"lag_length\\\":0,\\\"metric_operation\\\":\\\"maximize\\\",\\\"preprocess\\\":true}\", \"DataPrepJsonString\": \"{\\\\\\\"training_data\\\\\\\": {\\\\\\\"datasetId\\\\\\\": \\\\\\\"a586f540-3962-433d-89ce-9c0f53553fd0\\\\\\\"}, \\\\\\\"datasets\\\\\\\": 0}\", \"EnableSubsampling\": null, \"runTemplate\": \"AutoML\", \"azureml.runsource\": \"automl\", \"display_task_type\": \"classification\", \"dependencies_versions\": \"{\\\"azureml-dataprep-native\\\": \\\"38.0.0\\\", \\\"azureml-dataprep\\\": \\\"4.10.8\\\", \\\"azureml-dataprep-rslex\\\": \\\"2.17.12\\\", \\\"azureml-train-automl-runtime\\\": \\\"1.51.0.post2\\\", \\\"azureml-train-automl-client\\\": \\\"1.51.0.post1\\\", \\\"azureml-training-tabular\\\": \\\"1.51.0.post1\\\", \\\"azureml-automl-runtime\\\": \\\"1.51.0.post1\\\", \\\"azureml-automl-core\\\": \\\"1.51.0.post1\\\", \\\"azureml-mlflow\\\": \\\"1.51.0\\\", \\\"azureml-datadrift\\\": \\\"1.51.0\\\", \\\"azureml-pipeline\\\": \\\"1.51.0\\\", \\\"azureml-contrib-dataset\\\": \\\"1.51.0\\\", \\\"azureml-contrib-notebook\\\": \\\"1.51.0\\\", \\\"azureml-accel-models\\\": \\\"1.51.0\\\", \\\"azureml-automl-dnn-nlp\\\": \\\"1.51.0\\\", \\\"azureml-pipeline-core\\\": \\\"1.51.0\\\", \\\"azureml-responsibleai\\\": \\\"1.51.0\\\", \\\"azureml-contrib-automl-pipeline-steps\\\": \\\"1.51.0\\\", \\\"azureml-pipeline-steps\\\": \\\"1.51.0\\\", \\\"azureml-core\\\": \\\"1.51.0\\\", \\\"azureml-contrib-reinforcementlearning\\\": \\\"1.51.0\\\", \\\"azureml-contrib-server\\\": \\\"1.51.0\\\", \\\"azureml-opendatasets\\\": \\\"1.51.0\\\", \\\"azureml-contrib-services\\\": \\\"1.51.0\\\", \\\"azureml-telemetry\\\": \\\"1.51.0\\\", \\\"azureml-train-restclients-hyperdrive\\\": \\\"1.51.0\\\", \\\"azureml-interpret\\\": \\\"1.51.0\\\", \\\"azureml-train-core\\\": \\\"1.51.0\\\", \\\"azureml-tensorboard\\\": \\\"1.51.0\\\", \\\"azureml-train\\\": \\\"1.51.0\\\", \\\"azureml-contrib-pipeline-steps\\\": \\\"1.51.0\\\", \\\"azureml-explain-model\\\": \\\"1.51.0\\\", \\\"azureml-cli-common\\\": \\\"1.51.0\\\", \\\"azureml-widgets\\\": \\\"1.51.0\\\", \\\"azureml-train-automl\\\": \\\"1.51.0\\\", \\\"azureml-defaults\\\": \\\"1.51.0\\\", \\\"azureml-contrib-fairness\\\": \\\"1.51.0\\\", \\\"azureml-sdk\\\": \\\"1.51.0\\\", \\\"azureml-dataset-runtime\\\": \\\"1.51.0\\\", \\\"azureml-inference-server-http\\\": \\\"0.8.4\\\"}\", \"_aml_system_scenario_identification\": \"Remote.Parent\", \"ClientType\": \"SDK\", \"PlatformVersion\": \"DPV1\", \"environment_cpu_name\": \"AzureML-AutoML\", \"environment_cpu_label\": \"scikit-upgrade2\", \"environment_gpu_name\": \"AzureML-AutoML-GPU\", \"environment_gpu_label\": \"scikit-upgrade2\", \"root_attribution\": \"automl\", \"attribution\": \"AutoML\", \"Orchestrator\": \"AutoML\", \"CancelUri\": \"https://westus2.api.azureml.ms/jasmine/v1.0/subscriptions/aa7cf8e8-d23f-4bce-a7b9-1f0b4e0ac8ee/resourceGroups/aml-quickstarts-259246/providers/Microsoft.MachineLearningServices/workspaces/quick-starts-ws-259246/experimentids/f0e11d1d-d36e-4769-baf5-7eb6c4c76a82/cancel/AutoML_1381d957-e54f-4dfe-a306-e06771ae17b0\", \"ClientSdkVersion\": null, \"snapshotId\": \"00000000-0000-0000-0000-000000000000\", \"SetupRunId\": \"AutoML_1381d957-e54f-4dfe-a306-e06771ae17b0_setup\", \"SetupRunContainerId\": \"dcid.AutoML_1381d957-e54f-4dfe-a306-e06771ae17b0_setup\", \"FeaturizationRunJsonPath\": \"featurizer_container.json\", \"FeaturizationRunId\": \"AutoML_1381d957-e54f-4dfe-a306-e06771ae17b0_featurize\", \"ProblemInfoJsonString\": \"{\\\"dataset_num_categorical\\\": 0, \\\"is_sparse\\\": true, \\\"subsampling\\\": false, \\\"has_extra_col\\\": true, \\\"dataset_classes\\\": 2, \\\"dataset_features\\\": 2104, \\\"dataset_samples\\\": 763281, \\\"single_frequency_class_detected\\\": false}\", \"ModelExplainRunId\": \"AutoML_1381d957-e54f-4dfe-a306-e06771ae17b0_ModelExplain\"}, \"tags\": {\"model_explain_run\": \"best_run\", \"_aml_system_automl_run_workspace_id\": \"faeb127c-1c81-47a2-8d1a-e0a54ba6cb82\", \"_aml_system_azureml.automlComponent\": \"AutoML\", \"pipeline_id_000\": \"5dfac790c5c209f98a1da2dc1c7fb76f0397324f;c7af0367625be6ac5c2fecbfc72ed444cb7a2111;51ae05309834b29f71340af1008fc94fbd8213f4;ce2643edf3d450b10c86c7d034a9bc952dc282d3;039a99c3d5147edeb525249e2660628be3e8b83f;a3dadd95854bf6116ab454844302b51d417d78b7;1dfdf370ba770047b14bfa59c40920815defcdab;294650ec23bc3d067a4972de7ceb12f6e97260fa;c74787cd2f0507b852a1ac70d504d83ac9bdec83;1e38ae92baee19b18f211a8b14c16015d5ee3dc3;681a59302459aec2cc115ddbc14e1d28f4b3b8df;79ebb3b8c385e3190e3dd4c1fa28b74730528045;5bcf69d12307c5f0246b0d33ab19666443595ac9;6f4a466f84f725a47910c1dff062a1bb46df2a21;dea7fdbaedc77258dbfe31dbfed41e768ca38939;a7434e890cabef86b0ce4ae71fb633e1e92b854d;dd46719e1e1ca3df6e6826afb96bf9be8390e6e2;208056285bd1883d5bd7d4e4e996a1c71c4b0033;5dcd9bc8a74634130a855a68c1bf956ce7160f98;ee365d2bc711bc6838929328cc4ff4b890fbc6c3;f9c4839cd35f7fe03bcc11d87a99d82f63f333dc;dfc631bbb8f3be228d228210719dafe9e4a19b00;5f458a13254b49e3426be78855d0f3a51333406a;af9289cf22a1c55fa0a12fac40baa3e9cf2ac314;1f990657e477cdd8ebf0000e031699b6323d05d9;3fe9ace0255a98a01a321c2b4c6ab86f6c1db8e5;97b8ca294c8c2edbbd87b3762f4855735a5306c7;c89b3197b6054a49dc22ae48625c7e3940018258;0133b3da7624727c6fd571244e174e09a202df13;32aa75cbdde7a25dc79ba14d10dcfc085c1b9947;b8f43e6b007bb94306735e27a35d2b069fdafd6e;3006b004727b2f58714755959e7e65edfee82b6b;8dcea3685f89c20386531209c468e1069a05e194;580e1b8212120aa8bba1f9d7d40ce5f914e7ed72;85127d1c54afee5930386aa8489d072c3f611e43;9afc34cc2e73d79b2d74c8ba4e1b2a54a2705c62;596c829f5b2bbbc0d92db2292b6853a148d5dfbc;a72eb56f3d4aadb7b7f0149ba6e5f05657a95ca1;9610149fbcf43017aa810a290e9c04cbe6fa8684;0616c30c74d61a16849cbaf71dd20f922e5cef59;58f9ec9701bf80ae7fc8ba282e31cd44fdd5e5aa;37b05197506a6f06e2d84684be2567d7678742e3;6acea99717c85aafc1fd76a807b88eb5df341c38;2eacf701e08f1c722bbc0374a302947f1123d1d9;4e6bb9d876de19f2e391e2a48ac1e0dde15e9e5c;e6618fb2eb6ba0b42b3dcf317f668e138a51d399;c9c357d9bbf7f803c8235c7114c90aa17516be8c;5df2d365d441422c9d82d0dd9c106fc6915a307b\", \"score_000\": \"0.7865339617649534;0.7851723457696471;0.6666613384270635;0.52240288764339;0.6780067606842062;0.7006628783431901;0.6789459506047134;0.7277990108802033;0.7061739197537051;0.7272578712391887;0.7405136957471629;0.6423871591954868;0.5705858696517407;0.6738378500961231;0.6324791590191039;0.687013358729446;0.7269878347198687;0.6444368139026537;0.7148064896956189;0.7027951625215684;0.6681800599473486;0.7038475168065037;0.7204132604588595;0.7144153530038673;0.6131113693227405;0.7738930442117443;0.6856659464356583;0.7222131712937644;0.7631885167010526;0.720540289222477;0.738459181914547;0.7802019634681633;0.7903170596770828;0.820109692763775;0.9129254131597123;0.8385979086630402;0.7828421762100803;0.9982785348583193;0.7729498341827021;0.6744799862444086;0.7175155509194542;0.7251989249220736;0.773698203955018;0.7345115748548705;0.6824578756487663;0.734755186837239;0.7140569087486592;0.7263824727307713;0.6516909241157509;0.6586063529987132;0.9545782354290279;0.725897837245354;NaN;NaN;NaN;NaN;0.9984605420115348\", \"predicted_cost_000\": \"0;0;0.5;0.5;0.5;0.5;0.5;0.5;0.5;0.5;0.5;0.5;0.5;0.5;0.5;0.5;0.5;0.5;72.8130400822445;7.963273047621166;7.909479510435729;13.307135745540302;37.76604818439791;24.41855217214136;26.55918675879652;66.93994545797923;9.787010333626675;15.784046470884606;156.07341819130374;15.222004857570672;24.02590384183617;10.372370573995305;37.62234210322642;189.2431212006431;213.94528768138835;58.319358211302486;20.36577847657469;0.5;0.5;54.06231068820521;5.12463205009164;62.22037894878203;26.679659970903472;29.764096305822154;31.349491902679283;88.9123999199547;9.067661488253174;52.44298091974364;35.250155604532445;38.09853864594468;121.50604046502099;34.656730331871195;13.478607164096179;53.598670302543574;43.00538206991913;121.40087743485066;0\", \"fit_time_000\": \"6.536669000000001;56.901058;12.586296;1.926008;1.903708;13.805978999999999;24.191257;8.346506;19.051631999999998;28.826347;25.55789;9.691130999999999;5.6123270000000005;3.4818399999999996;50.940933;470.474747;11.526986;34.971094;7.277272999999999;11.936349;4.181645;16.869145999999997;12.722483;4.038722;6.117634000000001;53.688598000000006;2.9834699999999996;45.49559;22.2488;82.76598899999999;22.948826;136.708879;228.012368;35.428173;33.08486;57.437795;208.364279;1311.865607;14.778862;146.467613;8.11901;57.08548;678.1591470000001;48.770856;14.491919000000001;31.492203;6.2471559999999995;6.848183000000001;160.58331700000002;136.06969;41.257497;245.75482300000002;NaN;NaN;NaN;NaN;117\", \"training_percent_000\": \"100;100;100;100;100;100;100;100;100;100;100;100;100;100;100;100;100;100;100;100;100;100;100;100;100;100;100;100;100;100;100;100;100;100;100;100;100;100;100;100;100;100;100;100;100;100;100;100;100;100;100;100;100;100;100;100;100\", \"iteration_000\": \"0;1;2;3;4;5;6;7;12;16;8;13;9;10;11;17;18;19;20;21;23;25;24;26;27;22;30;29;31;28;34;35;32;37;38;39;36;14;15;41;44;42;33;43;47;46;49;51;45;50;52;48;55;40;53;54;56\", \"run_preprocessor_000\": \"MaxAbsScaler;MaxAbsScaler;MaxAbsScaler;MaxAbsScaler;StandardScalerWrapper;SparseNormalizer;SparseNormalizer;StandardScalerWrapper;StandardScalerWrapper;MaxAbsScaler;SparseNormalizer;StandardScalerWrapper;MaxAbsScaler;SparseNormalizer;MaxAbsScaler;StandardScalerWrapper;StandardScalerWrapper;MaxAbsScaler;MaxAbsScaler;StandardScalerWrapper;MaxAbsScaler;SparseNormalizer;StandardScalerWrapper;MaxAbsScaler;StandardScalerWrapper;StandardScalerWrapper;SparseNormalizer;MaxAbsScaler;SparseNormalizer;MaxAbsScaler;StandardScalerWrapper;SparseNormalizer;SparseNormalizer;SparseNormalizer;SparseNormalizer;SparseNormalizer;SparseNormalizer;StandardScalerWrapper;MaxAbsScaler;SparseNormalizer;MaxAbsScaler;StandardScalerWrapper;StandardScalerWrapper;StandardScalerWrapper;StandardScalerWrapper;StandardScalerWrapper;StandardScalerWrapper;SparseNormalizer;TruncatedSVDWrapper;TruncatedSVDWrapper;StandardScalerWrapper;StandardScalerWrapper;;SparseNormalizer;StandardScalerWrapper;StandardScalerWrapper;\", \"run_algorithm_000\": \"LightGBM;XGBoostClassifier;ExtremeRandomTrees;RandomForest;LightGBM;XGBoostClassifier;RandomForest;XGBoostClassifier;XGBoostClassifier;LogisticRegression;XGBoostClassifier;ExtremeRandomTrees;RandomForest;LightGBM;ExtremeRandomTrees;ExtremeRandomTrees;XGBoostClassifier;ExtremeRandomTrees;LogisticRegression;XGBoostClassifier;RandomForest;XGBoostClassifier;LightGBM;LightGBM;LightGBM;XGBoostClassifier;LightGBM;LogisticRegression;XGBoostClassifier;LogisticRegression;LightGBM;XGBoostClassifier;XGBoostClassifier;XGBoostClassifier;XGBoostClassifier;XGBoostClassifier;XGBoostClassifier;RandomForest;LightGBM;XGBoostClassifier;SGD;LogisticRegression;XGBoostClassifier;LogisticRegression;XGBoostClassifier;LogisticRegression;DecisionTree;XGBoostClassifier;RandomForest;RandomForest;XGBoostClassifier;LogisticRegression;;XGBoostClassifier;XGBoostClassifier;XGBoostClassifier;VotingEnsemble\", \"dynamic_allowlisting_iterations\": \"<24>;<30>;<34>;<40>;<45>;<50>;<55>;\", \"pipeline_id_001\": \"6291c5e99ab00d2b3e0c754763de020fe83c4389;059a32361dce538ebf998356acac7af50a1edcde;a9913b8dbe85a2639d82559670f7fce3821f9d99;3451b6b0d0b480bf130e6b87d90c4ebe799bd4ff;9dd027940d43304e17b11f129461e0f084b84915;44c4062946783ea557cb2ba1bbca3a2d9a04790f;b58c54f8868a33772ed74b8754fc0cdd72f335b2;483c305ed4d8879d65a5ee4eba83d137b3f8cbfc;__AutoML_Ensemble__\", \"_aml_system_azureml.automl_early_exit_message\": \"No scores improved over last 10 iterations, so experiment stopped early. This early stopping behavior can be disabled by setting enable_early_stopping = False in AutoMLConfig for notebook/python SDK runs.\", \"automl_best_child_run_id\": \"AutoML_1381d957-e54f-4dfe-a306-e06771ae17b0_56\", \"model_explain_best_run_child_id\": \"AutoML_1381d957-e54f-4dfe-a306-e06771ae17b0_56\"}, \"end_time_utc\": \"2024-05-16T19:20:18.702435Z\", \"status\": \"Completed\", \"log_files\": {}, \"log_groups\": [], \"run_duration\": \"1:42:40\", \"run_number\": \"1715881058\", \"run_queued_details\": {\"status\": \"Completed\", \"details\": null}}, \"child_runs\": [{\"run_id\": \"AutoML_1381d957-e54f-4dfe-a306-e06771ae17b0_setup\", \"run_number\": 1715881070, \"metric\": null, \"status\": \"Completed\", \"run_type\": \"azureml.scriptrun\", \"training_percent\": null, \"start_time\": \"2024-05-16T17:38:15.031078Z\", \"end_time\": \"2024-05-16T18:05:48.21983Z\", \"created_time\": \"2024-05-16T17:37:50.515094Z\", \"created_time_dt\": \"2024-05-16T17:37:50.515094Z\", \"duration\": \"0:27:57\", \"iteration\": null, \"goal\": null, \"run_name\": \"Completed\", \"run_properties\": null}, {\"run_id\": \"AutoML_1381d957-e54f-4dfe-a306-e06771ae17b0_featurize\", \"run_number\": 1715882748, \"metric\": null, \"status\": \"Completed\", \"run_type\": \"automl.featurization\", \"training_percent\": null, \"start_time\": \"2024-05-16T18:05:48.928376Z\", \"end_time\": \"2024-05-16T18:35:06.321905Z\", \"created_time\": \"2024-05-16T18:05:48.518087Z\", \"created_time_dt\": \"2024-05-16T18:05:48.518087Z\", \"duration\": \"0:29:17\", \"iteration\": null, \"goal\": null, \"run_name\": \"Completed\", \"run_properties\": null}, {\"run_id\": \"AutoML_1381d957-e54f-4dfe-a306-e06771ae17b0_0\", \"run_number\": 1715884508, \"metric\": null, \"status\": \"Completed\", \"run_type\": null, \"training_percent\": \"100\", \"start_time\": \"2024-05-16T18:35:43.279816Z\", \"end_time\": \"2024-05-16T18:36:04.743133Z\", \"created_time\": \"2024-05-16T18:35:08.418156Z\", \"created_time_dt\": \"2024-05-16T18:35:08.418156Z\", \"duration\": \"0:00:56\", \"iteration\": \"0\", \"goal\": \"AUC_weighted_max\", \"run_name\": \"MaxAbsScaler, LightGBM\", \"run_properties\": \"copy=True\", \"primary_metric\": 0.78653396, \"best_metric\": 0.78653396}, {\"run_id\": \"AutoML_1381d957-e54f-4dfe-a306-e06771ae17b0_1\", \"run_number\": 1715884509, \"metric\": null, \"status\": \"Completed\", \"run_type\": null, \"training_percent\": \"100\", \"start_time\": \"2024-05-16T18:36:05.555819Z\", \"end_time\": \"2024-05-16T18:37:14.237023Z\", \"created_time\": \"2024-05-16T18:35:09.110443Z\", \"created_time_dt\": \"2024-05-16T18:35:09.110443Z\", \"duration\": \"0:02:05\", \"iteration\": \"1\", \"goal\": \"AUC_weighted_max\", \"run_name\": \"MaxAbsScaler, XGBoostClassifier\", \"run_properties\": \"copy=True\", \"primary_metric\": 0.78517235, \"best_metric\": 0.78653396}, {\"run_id\": \"AutoML_1381d957-e54f-4dfe-a306-e06771ae17b0_worker_0\", \"run_number\": 1715884510, \"metric\": null, \"status\": \"Completed\", \"run_type\": \"azureml.scriptrun\", \"training_percent\": null, \"start_time\": \"2024-05-16T18:35:32.723579Z\", \"end_time\": \"2024-05-16T18:38:03.218603Z\", \"created_time\": \"2024-05-16T18:35:10.583662Z\", \"created_time_dt\": \"2024-05-16T18:35:10.583662Z\", \"duration\": \"0:02:52\", \"iteration\": null, \"goal\": null, \"run_name\": \"Completed\", \"run_properties\": null}, {\"run_id\": \"AutoML_1381d957-e54f-4dfe-a306-e06771ae17b0_5\", \"run_number\": 1715884511, \"metric\": null, \"status\": \"Completed\", \"run_type\": null, \"training_percent\": \"100\", \"start_time\": \"2024-05-16T18:38:46.524045Z\", \"end_time\": \"2024-05-16T18:39:12.146332Z\", \"created_time\": \"2024-05-16T18:35:11.297181Z\", \"created_time_dt\": \"2024-05-16T18:35:11.297181Z\", \"duration\": \"0:04:00\", \"iteration\": \"5\", \"goal\": \"AUC_weighted_max\", \"run_name\": \"SparseNormalizer, XGBoostClassifier\", \"run_properties\": \"copy=True, norm='max'\", \"primary_metric\": 0.70066288, \"best_metric\": 0.78653396}, {\"run_id\": \"AutoML_1381d957-e54f-4dfe-a306-e06771ae17b0_worker_1\", \"run_number\": 1715884512, \"metric\": null, \"status\": \"Completed\", \"run_type\": \"azureml.scriptrun\", \"training_percent\": null, \"start_time\": \"2024-05-16T18:38:20.045899Z\", \"end_time\": \"2024-05-16T18:40:23.847432Z\", \"created_time\": \"2024-05-16T18:35:12.526204Z\", \"created_time_dt\": \"2024-05-16T18:35:12.526204Z\", \"duration\": \"0:05:11\", \"iteration\": null, \"goal\": null, \"run_name\": \"Completed\", \"run_properties\": null}, {\"run_id\": \"AutoML_1381d957-e54f-4dfe-a306-e06771ae17b0_9\", \"run_number\": 1715884513, \"metric\": null, \"status\": \"Completed\", \"run_type\": null, \"training_percent\": \"100\", \"start_time\": \"2024-05-16T18:41:53.434856Z\", \"end_time\": \"2024-05-16T18:42:12.6583Z\", \"created_time\": \"2024-05-16T18:35:13.321648Z\", \"created_time_dt\": \"2024-05-16T18:35:13.321648Z\", \"duration\": \"0:06:59\", \"iteration\": \"9\", \"goal\": \"AUC_weighted_max\", \"run_name\": \"MaxAbsScaler, RandomForest\", \"run_properties\": \"copy=True\", \"primary_metric\": 0.57058587, \"best_metric\": 0.78653396}, {\"run_id\": \"AutoML_1381d957-e54f-4dfe-a306-e06771ae17b0_worker_2\", \"run_number\": 1715884514, \"metric\": null, \"status\": \"Completed\", \"run_type\": \"azureml.scriptrun\", \"training_percent\": null, \"start_time\": \"2024-05-16T18:38:27.391789Z\", \"end_time\": \"2024-05-16T18:43:55.626318Z\", \"created_time\": \"2024-05-16T18:35:14.641575Z\", \"created_time_dt\": \"2024-05-16T18:35:14.641575Z\", \"duration\": \"0:08:40\", \"iteration\": null, \"goal\": null, \"run_name\": \"Completed\", \"run_properties\": null}, {\"run_id\": \"AutoML_1381d957-e54f-4dfe-a306-e06771ae17b0_13\", \"run_number\": 1715884515, \"metric\": null, \"status\": \"Completed\", \"run_type\": null, \"training_percent\": \"100\", \"start_time\": \"2024-05-16T18:41:35.337269Z\", \"end_time\": \"2024-05-16T18:41:59.248959Z\", \"created_time\": \"2024-05-16T18:35:15.392347Z\", \"created_time_dt\": \"2024-05-16T18:35:15.392347Z\", \"duration\": \"0:06:43\", \"iteration\": \"13\", \"goal\": \"AUC_weighted_max\", \"run_name\": \"StandardScalerWrapper, ExtremeRandomTrees\", \"run_properties\": \"copy=True, with_mean=False, with_std=False\", \"primary_metric\": 0.64238716, \"best_metric\": 0.78653396}, {\"run_id\": \"AutoML_1381d957-e54f-4dfe-a306-e06771ae17b0_worker_3\", \"run_number\": 1715884516, \"metric\": null, \"status\": \"Completed\", \"run_type\": \"azureml.scriptrun\", \"training_percent\": null, \"start_time\": \"2024-05-16T18:38:26.219157Z\", \"end_time\": \"2024-05-16T19:07:02.574457Z\", \"created_time\": \"2024-05-16T18:35:16.707882Z\", \"created_time_dt\": \"2024-05-16T18:35:16.707882Z\", \"duration\": \"0:31:45\", \"iteration\": null, \"goal\": null, \"run_name\": \"Completed\", \"run_properties\": null}, {\"run_id\": \"AutoML_1381d957-e54f-4dfe-a306-e06771ae17b0_17\", \"run_number\": 1715884517, \"metric\": null, \"status\": \"Completed\", \"run_type\": null, \"training_percent\": \"100\", \"start_time\": \"2024-05-16T18:41:53.560714Z\", \"end_time\": \"2024-05-16T18:49:58.282843Z\", \"created_time\": \"2024-05-16T18:35:17.414691Z\", \"created_time_dt\": \"2024-05-16T18:35:17.414691Z\", \"duration\": \"0:14:40\", \"iteration\": \"17\", \"goal\": \"AUC_weighted_max\", \"run_name\": \"StandardScalerWrapper, ExtremeRandomTrees\", \"run_properties\": \"copy=True, with_mean=False, with_std=True\", \"primary_metric\": 0.68701336, \"best_metric\": 0.78653396}, {\"run_id\": \"AutoML_1381d957-e54f-4dfe-a306-e06771ae17b0_worker_4\", \"run_number\": 1715884518, \"metric\": null, \"status\": \"Completed\", \"run_type\": \"azureml.scriptrun\", \"training_percent\": null, \"start_time\": \"2024-05-16T18:38:27.020484Z\", \"end_time\": \"2024-05-16T18:51:20.607925Z\", \"created_time\": \"2024-05-16T18:35:18.608215Z\", \"created_time_dt\": \"2024-05-16T18:35:18.608215Z\", \"duration\": \"0:16:01\", \"iteration\": null, \"goal\": null, \"run_name\": \"Completed\", \"run_properties\": null}, {\"run_id\": \"AutoML_1381d957-e54f-4dfe-a306-e06771ae17b0_21\", \"run_number\": 1715885402, \"metric\": null, \"status\": \"Completed\", \"run_type\": \"azureml.scriptrun\", \"training_percent\": \"100\", \"start_time\": \"2024-05-16T18:50:29.970803Z\", \"end_time\": \"2024-05-16T18:51:45.203168Z\", \"created_time\": \"2024-05-16T18:50:02.884811Z\", \"created_time_dt\": \"2024-05-16T18:50:02.884811Z\", \"duration\": \"0:01:42\", \"iteration\": \"21\", \"goal\": \"AUC_weighted_max\", \"run_name\": \"StandardScalerWrapper, XGBoostClassifier\", \"run_properties\": \"copy=True, with_mean=False, with_std=False\", \"primary_metric\": 0.70279516, \"best_metric\": 0.78653396}, {\"run_id\": \"AutoML_1381d957-e54f-4dfe-a306-e06771ae17b0_23\", \"run_number\": 1715885476, \"metric\": null, \"status\": \"Completed\", \"run_type\": \"azureml.scriptrun\", \"training_percent\": \"100\", \"start_time\": \"2024-05-16T18:51:40.930517Z\", \"end_time\": \"2024-05-16T18:52:19.197805Z\", \"created_time\": \"2024-05-16T18:51:16.015585Z\", \"created_time_dt\": \"2024-05-16T18:51:16.015585Z\", \"duration\": \"0:01:03\", \"iteration\": \"23\", \"goal\": \"AUC_weighted_max\", \"run_name\": \"MaxAbsScaler, RandomForest\", \"run_properties\": \"copy=True\", \"primary_metric\": 0.66818006, \"best_metric\": 0.78653396}, {\"run_id\": \"AutoML_1381d957-e54f-4dfe-a306-e06771ae17b0_25\", \"run_number\": 1715885510, \"metric\": null, \"status\": \"Completed\", \"run_type\": \"azureml.scriptrun\", \"training_percent\": \"100\", \"start_time\": \"2024-05-16T18:52:10.468237Z\", \"end_time\": \"2024-05-16T18:53:02.805504Z\", \"created_time\": \"2024-05-16T18:51:50.513857Z\", \"created_time_dt\": \"2024-05-16T18:51:50.513857Z\", \"duration\": \"0:01:12\", \"iteration\": \"25\", \"goal\": \"AUC_weighted_max\", \"run_name\": \"SparseNormalizer, XGBoostClassifier\", \"run_properties\": \"copy=True, norm='max'\", \"primary_metric\": 0.70384752, \"best_metric\": 0.78653396}, {\"run_id\": \"AutoML_1381d957-e54f-4dfe-a306-e06771ae17b0_26\", \"run_number\": 1715885584, \"metric\": null, \"status\": \"Completed\", \"run_type\": \"azureml.scriptrun\", \"training_percent\": \"100\", \"start_time\": \"2024-05-16T18:53:31.486806Z\", \"end_time\": \"2024-05-16T18:54:10.266343Z\", \"created_time\": \"2024-05-16T18:53:04.680566Z\", \"created_time_dt\": \"2024-05-16T18:53:04.680566Z\", \"duration\": \"0:01:05\", \"iteration\": \"26\", \"goal\": \"AUC_weighted_max\", \"run_name\": \"MaxAbsScaler, LightGBM\", \"run_properties\": \"copy=True\", \"primary_metric\": 0.71441535, \"best_metric\": 0.78653396}, {\"run_id\": \"AutoML_1381d957-e54f-4dfe-a306-e06771ae17b0_28\", \"run_number\": 1715885651, \"metric\": null, \"status\": \"Completed\", \"run_type\": \"azureml.scriptrun\", \"training_percent\": \"100\", \"start_time\": \"2024-05-16T18:54:33.597185Z\", \"end_time\": \"2024-05-16T18:56:40.195632Z\", \"created_time\": \"2024-05-16T18:54:11.843013Z\", \"created_time_dt\": \"2024-05-16T18:54:11.843013Z\", \"duration\": \"0:02:28\", \"iteration\": \"28\", \"goal\": \"AUC_weighted_max\", \"run_name\": \"MaxAbsScaler, LogisticRegression\", \"run_properties\": \"copy=True\", \"primary_metric\": 0.72054029, \"best_metric\": 0.78653396}, {\"run_id\": \"AutoML_1381d957-e54f-4dfe-a306-e06771ae17b0_30\", \"run_number\": 1715885656, \"metric\": null, \"status\": \"Completed\", \"run_type\": \"azureml.scriptrun\", \"training_percent\": \"100\", \"start_time\": \"2024-05-16T18:54:37.874437Z\", \"end_time\": \"2024-05-16T18:55:15.462619Z\", \"created_time\": \"2024-05-16T18:54:16.473003Z\", \"created_time_dt\": \"2024-05-16T18:54:16.473003Z\", \"duration\": \"0:00:58\", \"iteration\": \"30\", \"goal\": \"AUC_weighted_max\", \"run_name\": \"SparseNormalizer, LightGBM\", \"run_properties\": \"copy=True, norm='max'\", \"primary_metric\": 0.68566595, \"best_metric\": 0.78653396}, {\"run_id\": \"AutoML_1381d957-e54f-4dfe-a306-e06771ae17b0_32\", \"run_number\": 1715885756, \"metric\": null, \"status\": \"Completed\", \"run_type\": \"azureml.scriptrun\", \"training_percent\": \"100\", \"start_time\": \"2024-05-16T18:56:20.138339Z\", \"end_time\": \"2024-05-16T19:00:41.86735Z\", \"created_time\": \"2024-05-16T18:55:56.450041Z\", \"created_time_dt\": \"2024-05-16T18:55:56.450041Z\", \"duration\": \"0:04:45\", \"iteration\": \"32\", \"goal\": \"AUC_weighted_max\", \"run_name\": \"SparseNormalizer, XGBoostClassifier\", \"run_properties\": \"copy=True, norm='l1'\", \"primary_metric\": 0.79031706, \"best_metric\": 0.79031706}, {\"run_id\": \"AutoML_1381d957-e54f-4dfe-a306-e06771ae17b0_35\", \"run_number\": 1715885802, \"metric\": null, \"status\": \"Completed\", \"run_type\": \"azureml.scriptrun\", \"training_percent\": \"100\", \"start_time\": \"2024-05-16T18:57:10.455936Z\", \"end_time\": \"2024-05-16T19:00:02.78039Z\", \"created_time\": \"2024-05-16T18:56:42.463074Z\", \"created_time_dt\": \"2024-05-16T18:56:42.463074Z\", \"duration\": \"0:03:20\", \"iteration\": \"35\", \"goal\": \"AUC_weighted_max\", \"run_name\": \"SparseNormalizer, XGBoostClassifier\", \"run_properties\": \"copy=True, norm='l2'\", \"primary_metric\": 0.78020196, \"best_metric\": 0.79031706}, {\"run_id\": \"AutoML_1381d957-e54f-4dfe-a306-e06771ae17b0_36\", \"run_number\": 1715886004, \"metric\": null, \"status\": \"Completed\", \"run_type\": \"azureml.scriptrun\", \"training_percent\": \"100\", \"start_time\": \"2024-05-16T19:00:29.247543Z\", \"end_time\": \"2024-05-16T19:04:31.889524Z\", \"created_time\": \"2024-05-16T19:00:04.615832Z\", \"created_time_dt\": \"2024-05-16T19:00:04.615832Z\", \"duration\": \"0:04:27\", \"iteration\": \"36\", \"goal\": \"AUC_weighted_max\", \"run_name\": \"SparseNormalizer, XGBoostClassifier\", \"run_properties\": \"copy=True, norm='max'\", \"primary_metric\": 0.78284218, \"best_metric\": 0.79031706}, {\"run_id\": \"AutoML_1381d957-e54f-4dfe-a306-e06771ae17b0_38\", \"run_number\": 1715886101, \"metric\": null, \"status\": \"Completed\", \"run_type\": \"azureml.scriptrun\", \"training_percent\": \"100\", \"start_time\": \"2024-05-16T19:02:05.175084Z\", \"end_time\": \"2024-05-16T19:03:13.153142Z\", \"created_time\": \"2024-05-16T19:01:41.205537Z\", \"created_time_dt\": \"2024-05-16T19:01:41.205537Z\", \"duration\": \"0:01:31\", \"iteration\": \"38\", \"goal\": \"AUC_weighted_max\", \"run_name\": \"SparseNormalizer, XGBoostClassifier\", \"run_properties\": \"copy=True, norm='max'\", \"primary_metric\": 0.91292541, \"best_metric\": 0.91292541}, {\"run_id\": \"AutoML_1381d957-e54f-4dfe-a306-e06771ae17b0_41\", \"run_number\": 1715886220, \"metric\": null, \"status\": \"Completed\", \"run_type\": \"azureml.scriptrun\", \"training_percent\": \"100\", \"start_time\": \"2024-05-16T19:04:05.426459Z\", \"end_time\": \"2024-05-16T19:07:05.889516Z\", \"created_time\": \"2024-05-16T19:03:40.940367Z\", \"created_time_dt\": \"2024-05-16T19:03:40.940367Z\", \"duration\": \"0:03:24\", \"iteration\": \"41\", \"goal\": \"AUC_weighted_max\", \"run_name\": \"SparseNormalizer, XGBoostClassifier\", \"run_properties\": \"copy=True, norm='max'\", \"primary_metric\": 0.67447999, \"best_metric\": 0.91292541}, {\"run_id\": \"AutoML_1381d957-e54f-4dfe-a306-e06771ae17b0_42\", \"run_number\": 1715886384, \"metric\": null, \"status\": \"Completed\", \"run_type\": \"azureml.scriptrun\", \"training_percent\": \"100\", \"start_time\": \"2024-05-16T19:06:49.743546Z\", \"end_time\": \"2024-05-16T19:08:20.295954Z\", \"created_time\": \"2024-05-16T19:06:24.276572Z\", \"created_time_dt\": \"2024-05-16T19:06:24.276572Z\", \"duration\": \"0:01:56\", \"iteration\": \"42\", \"goal\": \"AUC_weighted_max\", \"run_name\": \"StandardScalerWrapper, LogisticRegression\", \"run_properties\": \"copy=True, with_mean=False, with_std=True\", \"primary_metric\": 0.72519892, \"best_metric\": 0.91292541}, {\"run_id\": \"AutoML_1381d957-e54f-4dfe-a306-e06771ae17b0_43\", \"run_number\": 1715886427, \"metric\": null, \"status\": \"Completed\", \"run_type\": \"azureml.scriptrun\", \"training_percent\": \"100\", \"start_time\": \"2024-05-16T19:07:30.843869Z\", \"end_time\": \"2024-05-16T19:08:54.86983Z\", \"created_time\": \"2024-05-16T19:07:07.504448Z\", \"created_time_dt\": \"2024-05-16T19:07:07.504448Z\", \"duration\": \"0:01:47\", \"iteration\": \"43\", \"goal\": \"AUC_weighted_max\", \"run_name\": \"StandardScalerWrapper, LogisticRegression\", \"run_properties\": \"copy=True, with_mean=False, with_std=True\", \"primary_metric\": 0.73451157, \"best_metric\": 0.91292541}, {\"run_id\": \"AutoML_1381d957-e54f-4dfe-a306-e06771ae17b0_45\", \"run_number\": 1715886496, \"metric\": null, \"status\": \"Completed\", \"run_type\": \"azureml.scriptrun\", \"training_percent\": \"100\", \"start_time\": \"2024-05-16T19:08:39.832795Z\", \"end_time\": \"2024-05-16T19:11:55.565691Z\", \"created_time\": \"2024-05-16T19:08:16.578008Z\", \"created_time_dt\": \"2024-05-16T19:08:16.578008Z\", \"duration\": \"0:03:38\", \"iteration\": \"45\", \"goal\": \"AUC_weighted_max\", \"run_name\": \"TruncatedSVDWrapper, RandomForest\", \"run_properties\": \"n_components=0.6036842105263158, random_state=None\", \"primary_metric\": 0.65169092, \"best_metric\": 0.91292541}, {\"run_id\": \"AutoML_1381d957-e54f-4dfe-a306-e06771ae17b0_46\", \"run_number\": 1715886502, \"metric\": null, \"status\": \"Completed\", \"run_type\": \"azureml.scriptrun\", \"training_percent\": \"100\", \"start_time\": \"2024-05-16T19:08:42.973587Z\", \"end_time\": \"2024-05-16T19:09:48.093831Z\", \"created_time\": \"2024-05-16T19:08:22.24288Z\", \"created_time_dt\": \"2024-05-16T19:08:22.24288Z\", \"duration\": \"0:01:25\", \"iteration\": \"46\", \"goal\": \"AUC_weighted_max\", \"run_name\": \"StandardScalerWrapper, LogisticRegression\", \"run_properties\": \"copy=True, with_mean=False, with_std=True\", \"primary_metric\": 0.73475519, \"best_metric\": 0.91292541}, {\"run_id\": \"AutoML_1381d957-e54f-4dfe-a306-e06771ae17b0_47\", \"run_number\": 1715886511, \"metric\": null, \"status\": \"Completed\", \"run_type\": \"azureml.scriptrun\", \"training_percent\": \"100\", \"start_time\": \"2024-05-16T19:08:53.855821Z\", \"end_time\": \"2024-05-16T19:09:43.078337Z\", \"created_time\": \"2024-05-16T19:08:31.509042Z\", \"created_time_dt\": \"2024-05-16T19:08:31.509042Z\", \"duration\": \"0:01:11\", \"iteration\": \"47\", \"goal\": \"AUC_weighted_max\", \"run_name\": \"StandardScalerWrapper, XGBoostClassifier\", \"run_properties\": \"copy=True, with_mean=False, with_std=False\", \"primary_metric\": 0.68245788, \"best_metric\": 0.91292541}, {\"run_id\": \"AutoML_1381d957-e54f-4dfe-a306-e06771ae17b0_48\", \"run_number\": 1715886536, \"metric\": null, \"status\": \"Completed\", \"run_type\": \"azureml.scriptrun\", \"training_percent\": \"100\", \"start_time\": \"2024-05-16T19:09:20.067208Z\", \"end_time\": \"2024-05-16T19:13:58.899109Z\", \"created_time\": \"2024-05-16T19:08:56.365405Z\", \"created_time_dt\": \"2024-05-16T19:08:56.365405Z\", \"duration\": \"0:05:02\", \"iteration\": \"48\", \"goal\": \"AUC_weighted_max\", \"run_name\": \"StandardScalerWrapper, LogisticRegression\", \"run_properties\": \"copy=True, with_mean=False, with_std=True\", \"primary_metric\": 0.72589784, \"best_metric\": 0.91292541}, {\"run_id\": \"AutoML_1381d957-e54f-4dfe-a306-e06771ae17b0_49\", \"run_number\": 1715886584, \"metric\": null, \"status\": \"Completed\", \"run_type\": \"azureml.scriptrun\", \"training_percent\": \"100\", \"start_time\": \"2024-05-16T19:10:07.590726Z\", \"end_time\": \"2024-05-16T19:10:47.838517Z\", \"created_time\": \"2024-05-16T19:09:44.826139Z\", \"created_time_dt\": \"2024-05-16T19:09:44.826139Z\", \"duration\": \"0:01:03\", \"iteration\": \"49\", \"goal\": \"AUC_weighted_max\", \"run_name\": \"StandardScalerWrapper, DecisionTree\", \"run_properties\": \"copy=True, with_mean=False, with_std=False\", \"primary_metric\": 0.71405691, \"best_metric\": 0.91292541}, {\"run_id\": \"AutoML_1381d957-e54f-4dfe-a306-e06771ae17b0_50\", \"run_number\": 1715886590, \"metric\": null, \"status\": \"Completed\", \"run_type\": \"azureml.scriptrun\", \"training_percent\": \"100\", \"start_time\": \"2024-05-16T19:10:12.967895Z\", \"end_time\": \"2024-05-16T19:13:03.3359Z\", \"created_time\": \"2024-05-16T19:09:50.81777Z\", \"created_time_dt\": \"2024-05-16T19:09:50.81777Z\", \"duration\": \"0:03:12\", \"iteration\": \"50\", \"goal\": \"AUC_weighted_max\", \"run_name\": \"TruncatedSVDWrapper, RandomForest\", \"run_properties\": \"n_components=0.95, random_state=None\", \"primary_metric\": 0.65860635, \"best_metric\": 0.91292541}, {\"run_id\": \"AutoML_1381d957-e54f-4dfe-a306-e06771ae17b0_51\", \"run_number\": 1715886649, \"metric\": null, \"status\": \"Completed\", \"run_type\": \"azureml.scriptrun\", \"training_percent\": \"100\", \"start_time\": \"2024-05-16T19:11:11.947197Z\", \"end_time\": \"2024-05-16T19:11:55.029033Z\", \"created_time\": \"2024-05-16T19:10:49.541808Z\", \"created_time_dt\": \"2024-05-16T19:10:49.541808Z\", \"duration\": \"0:01:05\", \"iteration\": \"51\", \"goal\": \"AUC_weighted_max\", \"run_name\": \"SparseNormalizer, XGBoostClassifier\", \"run_properties\": \"copy=True, norm='max'\", \"primary_metric\": 0.72638247, \"best_metric\": 0.91292541}, {\"run_id\": \"AutoML_1381d957-e54f-4dfe-a306-e06771ae17b0_52\", \"run_number\": 1715886716, \"metric\": null, \"status\": \"Completed\", \"run_type\": \"azureml.scriptrun\", \"training_percent\": \"100\", \"start_time\": \"2024-05-16T19:12:19.509865Z\", \"end_time\": \"2024-05-16T19:13:36.332734Z\", \"created_time\": \"2024-05-16T19:11:56.890977Z\", \"created_time_dt\": \"2024-05-16T19:11:56.890977Z\", \"duration\": \"0:01:39\", \"iteration\": \"52\", \"goal\": \"AUC_weighted_max\", \"run_name\": \"StandardScalerWrapper, XGBoostClassifier\", \"run_properties\": \"copy=True, with_mean=False, with_std=False\", \"primary_metric\": 0.95457824, \"best_metric\": 0.95457824}, {\"run_id\": \"AutoML_1381d957-e54f-4dfe-a306-e06771ae17b0_53\", \"run_number\": 1715886719, \"metric\": null, \"status\": \"Canceled\", \"run_type\": \"azureml.scriptrun\", \"training_percent\": \"100\", \"start_time\": \"2024-05-16T19:12:42.707483Z\", \"end_time\": \"2024-05-16T19:14:05.746142Z\", \"created_time\": \"2024-05-16T19:11:59.312861Z\", \"created_time_dt\": \"2024-05-16T19:11:59.312861Z\", \"duration\": \"0:02:06\", \"iteration\": \"53\", \"goal\": null, \"run_name\": \"StandardScalerWrapper, XGBoostClassifier\", \"run_properties\": null}, {\"run_id\": \"AutoML_1381d957-e54f-4dfe-a306-e06771ae17b0_54\", \"run_number\": 1715886785, \"metric\": null, \"status\": \"Canceled\", \"run_type\": \"azureml.scriptrun\", \"training_percent\": \"100\", \"start_time\": \"2024-05-16T19:13:31.646096Z\", \"end_time\": \"2024-05-16T19:14:05.663445Z\", \"created_time\": \"2024-05-16T19:13:05.153348Z\", \"created_time_dt\": \"2024-05-16T19:13:05.153348Z\", \"duration\": \"0:01:00\", \"iteration\": \"54\", \"goal\": null, \"run_name\": \"StandardScalerWrapper, XGBoostClassifier\", \"run_properties\": null}, {\"run_id\": \"AutoML_1381d957-e54f-4dfe-a306-e06771ae17b0_55\", \"run_number\": 1715886819, \"metric\": null, \"status\": \"Canceled\", \"run_type\": \"azureml.scriptrun\", \"training_percent\": \"100\", \"start_time\": \"2024-05-16T19:13:59.680476Z\", \"end_time\": \"2024-05-16T19:14:03.855051Z\", \"created_time\": \"2024-05-16T19:13:39.006521Z\", \"created_time_dt\": \"2024-05-16T19:13:39.006521Z\", \"duration\": \"0:00:24\", \"iteration\": \"55\", \"goal\": null, \"run_name\": \"Canceled\", \"run_properties\": null}, {\"run_id\": \"AutoML_1381d957-e54f-4dfe-a306-e06771ae17b0_56\", \"run_number\": 1715886846, \"metric\": null, \"status\": \"Completed\", \"run_type\": \"azureml.scriptrun\", \"training_percent\": \"100\", \"start_time\": \"2024-05-16T19:14:34.273984Z\", \"end_time\": \"2024-05-16T19:20:17.376705Z\", \"created_time\": \"2024-05-16T19:14:06.449912Z\", \"created_time_dt\": \"2024-05-16T19:14:06.449912Z\", \"duration\": \"0:06:10\", \"iteration\": \"56\", \"goal\": \"AUC_weighted_max\", \"run_name\": \"VotingEnsemble\", \"run_properties\": \"classification_labels=numpy.array([0, 1]\", \"primary_metric\": 0.99846054, \"best_metric\": 0.99846054}], \"children_metrics\": {\"categories\": [0], \"series\": {\"recall_score_weighted\": [{\"categories\": [\"0\", \"1\", \"5\", \"9\", \"13\", \"17\", \"21\", \"23\", \"25\", \"26\", \"28\", \"30\", \"32\", \"35\", \"36\", \"38\", \"41\", \"42\", \"43\", \"45\", \"46\", \"47\", \"48\", \"49\", \"50\", \"51\", \"52\", \"56\"], \"mode\": \"markers\", \"name\": \"recall_score_weighted\", \"stepped\": false, \"type\": \"scatter\", \"data\": [0.9527296309397477, 0.9545572456078293, 0.9523169437566325, 0.7543803796722085, 0.9488267892937153, 0.7870416224501827, 0.9526824666902488, 0.7950241716778682, 0.9522697795071335, 0.951243957080533, 0.9497229100341941, 0.9488267892937153, 0.9525291828793774, 0.9535903784931022, 0.952965452187242, 0.9686357740832449, 0.951916047635892, 0.9496049994104468, 0.7640726329442283, 0.6726565263530245, 0.7637424831977361, 0.9522697795071335, 0.9497111189718194, 0.7962268600400896, 0.9488267892937153, 0.9524584365051291, 0.9707699563730692, 0.9905907322249735]}, {\"categories\": [\"0\", \"1\", \"5\", \"9\", \"13\", \"17\", \"21\", \"23\", \"25\", \"26\", \"28\", \"30\", \"32\", \"35\", \"36\", \"38\", \"41\", \"42\", \"43\", \"45\", \"46\", \"47\", \"48\", \"49\", \"50\", \"51\", \"52\", \"56\"], \"mode\": \"lines\", \"name\": \"recall_score_weighted_max\", \"stepped\": true, \"type\": \"scatter\", \"data\": [0.9527296309397477, 0.9545572456078293, 0.9545572456078293, 0.9545572456078293, 0.9545572456078293, 0.9545572456078293, 0.9545572456078293, 0.9545572456078293, 0.9545572456078293, 0.9545572456078293, 0.9545572456078293, 0.9545572456078293, 0.9545572456078293, 0.9545572456078293, 0.9545572456078293, 0.9686357740832449, 0.9686357740832449, 0.9686357740832449, 0.9686357740832449, 0.9686357740832449, 0.9686357740832449, 0.9686357740832449, 0.9686357740832449, 0.9686357740832449, 0.9686357740832449, 0.9686357740832449, 0.9707699563730692, 0.9905907322249735]}], \"precision_score_macro\": [{\"categories\": [\"0\", \"1\", \"5\", \"9\", \"13\", \"17\", \"21\", \"23\", \"25\", \"26\", \"28\", \"30\", \"32\", \"35\", \"36\", \"38\", \"41\", \"42\", \"43\", \"45\", \"46\", \"47\", \"48\", \"49\", \"50\", \"51\", \"52\", \"56\"], \"mode\": \"markers\", \"name\": \"precision_score_macro\", \"stepped\": false, \"type\": \"scatter\", \"data\": [0.9045886805153183, 0.9313034283225079, 0.8977356525265933, 0.5145183876306141, 0.47441339464685767, 0.5400810691754643, 0.9179697726500236, 0.5398751241391583, 0.8993864550720021, 0.8779925325813902, 0.8330591133586975, 0.47441339464685767, 0.9065492967854134, 0.9281428397526277, 0.9203673335030629, 0.966161196894715, 0.8924803871953448, 0.7975818234313883, 0.5469284585613933, 0.5235159993845787, 0.546967803241515, 0.8923580656631505, 0.8071203960504205, 0.5470003933551277, 0.47441339464685767, 0.8991582333909455, 0.9663875933817823, 0.9837879366762041]}, {\"categories\": [\"0\", \"1\", \"5\", \"9\", \"13\", \"17\", \"21\", \"23\", \"25\", \"26\", \"28\", \"30\", \"32\", \"35\", \"36\", \"38\", \"41\", \"42\", \"43\", \"45\", \"46\", \"47\", \"48\", \"49\", \"50\", \"51\", \"52\", \"56\"], \"mode\": \"lines\", \"name\": \"precision_score_macro_max\", \"stepped\": true, \"type\": \"scatter\", \"data\": [0.9045886805153183, 0.9313034283225079, 0.9313034283225079, 0.9313034283225079, 0.9313034283225079, 0.9313034283225079, 0.9313034283225079, 0.9313034283225079, 0.9313034283225079, 0.9313034283225079, 0.9313034283225079, 0.9313034283225079, 0.9313034283225079, 0.9313034283225079, 0.9313034283225079, 0.966161196894715, 0.966161196894715, 0.966161196894715, 0.966161196894715, 0.966161196894715, 0.966161196894715, 0.966161196894715, 0.966161196894715, 0.966161196894715, 0.966161196894715, 0.966161196894715, 0.9663875933817823, 0.9837879366762041]}], \"precision_score_weighted\": [{\"categories\": [\"0\", \"1\", \"5\", \"9\", \"13\", \"17\", \"21\", \"23\", \"25\", \"26\", \"28\", \"30\", \"32\", \"35\", \"36\", \"38\", \"41\", \"42\", \"43\", \"45\", \"46\", \"47\", \"48\", \"49\", \"50\", \"51\", \"52\", \"56\"], \"mode\": \"markers\", \"name\": \"precision_score_weighted\", \"stepped\": false, \"type\": \"scatter\", \"data\": [0.9482817009708716, 0.9524748640173525, 0.9472350176106101, 0.9103197890118907, 0.9002722760814205, 0.9220931571306885, 0.949446705773116, 0.9212710987930357, 0.9473345232096598, 0.9442736838973517, 0.9382192502421846, 0.9002722760814205, 0.9482520860862483, 0.9512595751213642, 0.949945122111789, 0.9684816654651925, 0.9463333879491814, 0.9347836678879136, 0.9282882905205432, 0.9192660279000117, 0.9283473647377971, 0.9467019090438538, 0.9358124452727994, 0.9249156008746702, 0.9002722760814205, 0.9475119175002282, 0.9705176911105107, 0.9904813585637608]}, {\"categories\": [\"0\", \"1\", \"5\", \"9\", \"13\", \"17\", \"21\", \"23\", \"25\", \"26\", \"28\", \"30\", \"32\", \"35\", \"36\", \"38\", \"41\", \"42\", \"43\", \"45\", \"46\", \"47\", \"48\", \"49\", \"50\", \"51\", \"52\", \"56\"], \"mode\": \"lines\", \"name\": \"precision_score_weighted_max\", \"stepped\": true, \"type\": \"scatter\", \"data\": [0.9482817009708716, 0.9524748640173525, 0.9524748640173525, 0.9524748640173525, 0.9524748640173525, 0.9524748640173525, 0.9524748640173525, 0.9524748640173525, 0.9524748640173525, 0.9524748640173525, 0.9524748640173525, 0.9524748640173525, 0.9524748640173525, 0.9524748640173525, 0.9524748640173525, 0.9684816654651925, 0.9684816654651925, 0.9684816654651925, 0.9684816654651925, 0.9684816654651925, 0.9684816654651925, 0.9684816654651925, 0.9684816654651925, 0.9684816654651925, 0.9684816654651925, 0.9684816654651925, 0.9705176911105107, 0.9904813585637608]}], \"f1_score_macro\": [{\"categories\": [\"0\", \"1\", \"5\", \"9\", \"13\", \"17\", \"21\", \"23\", \"25\", \"26\", \"28\", \"30\", \"32\", \"35\", \"36\", \"38\", \"41\", \"42\", \"43\", \"45\", \"46\", \"47\", \"48\", \"49\", \"50\", \"51\", \"52\", \"56\"], \"mode\": \"markers\", \"name\": \"f1_score_macro\", \"stepped\": false, \"type\": \"scatter\", \"data\": [0.5706682638494527, 0.5979017198971739, 0.5640124451256028, 0.4887336159743631, 0.48687076476282676, 0.5308322759210755, 0.5669139289290426, 0.5329462340629787, 0.5626912681026002, 0.5454084927591193, 0.5149877241934461, 0.48687076476282676, 0.5663060424785352, 0.5816130397094823, 0.5717717477429068, 0.7756739940718604, 0.556919896432035, 0.5192329505411297, 0.5317414682848207, 0.47041535085588426, 0.5316727391124537, 0.5642904644950498, 0.5203474245587546, 0.5423362466197751, 0.48687076476282676, 0.5665409302030721, 0.7973647752517152, 0.948014350926629]}, {\"categories\": [\"0\", \"1\", \"5\", \"9\", \"13\", \"17\", \"21\", \"23\", \"25\", \"26\", \"28\", \"30\", \"32\", \"35\", \"36\", \"38\", \"41\", \"42\", \"43\", \"45\", \"46\", \"47\", \"48\", \"49\", \"50\", \"51\", \"52\", \"56\"], \"mode\": \"lines\", \"name\": \"f1_score_macro_max\", \"stepped\": true, \"type\": \"scatter\", \"data\": [0.5706682638494527, 0.5979017198971739, 0.5979017198971739, 0.5979017198971739, 0.5979017198971739, 0.5979017198971739, 0.5979017198971739, 0.5979017198971739, 0.5979017198971739, 0.5979017198971739, 0.5979017198971739, 0.5979017198971739, 0.5979017198971739, 0.5979017198971739, 0.5979017198971739, 0.7756739940718604, 0.7756739940718604, 0.7756739940718604, 0.7756739940718604, 0.7756739940718604, 0.7756739940718604, 0.7756739940718604, 0.7756739940718604, 0.7756739940718604, 0.7756739940718604, 0.7756739940718604, 0.7973647752517152, 0.948014350926629]}], \"log_loss\": [{\"categories\": [\"0\", \"1\", \"5\", \"9\", \"13\", \"17\", \"21\", \"23\", \"25\", \"26\", \"28\", \"30\", \"32\", \"35\", \"36\", \"38\", \"41\", \"42\", \"43\", \"45\", \"46\", \"47\", \"48\", \"49\", \"50\", \"51\", \"52\", \"56\"], \"mode\": \"markers\", \"name\": \"log_loss\", \"stepped\": false, \"type\": \"scatter\", \"data\": [0.1598213924923093, 0.1592119513412692, 0.17748267415874514, 0.691930084496513, 0.1967778603711633, 0.624887756407238, 0.19679335303228337, 0.6608096039780713, 0.17719038747538682, 0.17600644026017637, 0.17897069970112855, 0.19059541892141094, 0.16206276922554008, 0.16175961403928366, 0.16182012138198712, 0.12153921358497072, 0.6179386307963262, 0.17805044913010387, 0.5794928041589015, 0.664736443545842, 0.5795530002938126, 0.6174512538750934, 0.17782769516829963, 0.5880047628111084, 0.19580318483580814, 0.17082767320125278, 0.0944680788895266, 0.03029622784278983]}, {\"categories\": [\"0\", \"1\", \"5\", \"9\", \"13\", \"17\", \"21\", \"23\", \"25\", \"26\", \"28\", \"30\", \"32\", \"35\", \"36\", \"38\", \"41\", \"42\", \"43\", \"45\", \"46\", \"47\", \"48\", \"49\", \"50\", \"51\", \"52\", \"56\"], \"mode\": \"lines\", \"name\": \"log_loss_min\", \"stepped\": true, \"type\": \"scatter\", \"data\": [0.1598213924923093, 0.1592119513412692, 0.1592119513412692, 0.1592119513412692, 0.1592119513412692, 0.1592119513412692, 0.1592119513412692, 0.1592119513412692, 0.1592119513412692, 0.1592119513412692, 0.1592119513412692, 0.1592119513412692, 0.1592119513412692, 0.1592119513412692, 0.1592119513412692, 0.12153921358497072, 0.12153921358497072, 0.12153921358497072, 0.12153921358497072, 0.12153921358497072, 0.12153921358497072, 0.12153921358497072, 0.12153921358497072, 0.12153921358497072, 0.12153921358497072, 0.12153921358497072, 0.0944680788895266, 0.03029622784278983]}], \"f1_score_micro\": [{\"categories\": [\"0\", \"1\", \"5\", \"9\", \"13\", \"17\", \"21\", \"23\", \"25\", \"26\", \"28\", \"30\", \"32\", \"35\", \"36\", \"38\", \"41\", \"42\", \"43\", \"45\", \"46\", \"47\", \"48\", \"49\", \"50\", \"51\", \"52\", \"56\"], \"mode\": \"markers\", \"name\": \"f1_score_micro\", \"stepped\": false, \"type\": \"scatter\", \"data\": [0.9527296309397477, 0.9545572456078293, 0.9523169437566325, 0.7543803796722085, 0.9488267892937153, 0.7870416224501827, 0.9526824666902488, 0.7950241716778682, 0.9522697795071335, 0.951243957080533, 0.9497229100341941, 0.9488267892937153, 0.9525291828793774, 0.9535903784931022, 0.9529654521872422, 0.9686357740832449, 0.951916047635892, 0.9496049994104468, 0.7640726329442282, 0.6726565263530244, 0.763742483197736, 0.9522697795071335, 0.9497111189718194, 0.7962268600400896, 0.9488267892937153, 0.9524584365051291, 0.9707699563730692, 0.9905907322249735]}, {\"categories\": [\"0\", \"1\", \"5\", \"9\", \"13\", \"17\", \"21\", \"23\", \"25\", \"26\", \"28\", \"30\", \"32\", \"35\", \"36\", \"38\", \"41\", \"42\", \"43\", \"45\", \"46\", \"47\", \"48\", \"49\", \"50\", \"51\", \"52\", \"56\"], \"mode\": \"lines\", \"name\": \"f1_score_micro_max\", \"stepped\": true, \"type\": \"scatter\", \"data\": [0.9527296309397477, 0.9545572456078293, 0.9545572456078293, 0.9545572456078293, 0.9545572456078293, 0.9545572456078293, 0.9545572456078293, 0.9545572456078293, 0.9545572456078293, 0.9545572456078293, 0.9545572456078293, 0.9545572456078293, 0.9545572456078293, 0.9545572456078293, 0.9545572456078293, 0.9686357740832449, 0.9686357740832449, 0.9686357740832449, 0.9686357740832449, 0.9686357740832449, 0.9686357740832449, 0.9686357740832449, 0.9686357740832449, 0.9686357740832449, 0.9686357740832449, 0.9686357740832449, 0.9707699563730692, 0.9905907322249735]}], \"AUC_micro\": [{\"categories\": [\"0\", \"1\", \"5\", \"9\", \"13\", \"17\", \"21\", \"23\", \"25\", \"26\", \"28\", \"30\", \"32\", \"35\", \"36\", \"38\", \"41\", \"42\", \"43\", \"45\", \"46\", \"47\", \"48\", \"49\", \"50\", \"51\", \"52\", \"56\"], \"mode\": \"markers\", \"name\": \"AUC_micro\", \"stepped\": false, \"type\": \"scatter\", \"data\": [0.97679369106841, 0.9767656453432233, 0.96848294003168, 0.7792163478651747, 0.9626538676985521, 0.8341478813604742, 0.9687210324594002, 0.7381670311802486, 0.9687896949256903, 0.9697127738358148, 0.9702501715584977, 0.9668566285922822, 0.9771610286105171, 0.9762171103427526, 0.9764727931558618, 0.9897094472157821, 0.9659415369069358, 0.9707265824753393, 0.8038964549248513, 0.7250447534144899, 0.803603780208202, 0.9667120835977839, 0.9707944672125535, 0.8299842297842681, 0.9642288978181752, 0.970892380856292, 0.993962119575053, 0.999635360457615]}, {\"categories\": [\"0\", \"1\", \"5\", \"9\", \"13\", \"17\", \"21\", \"23\", \"25\", \"26\", \"28\", \"30\", \"32\", \"35\", \"36\", \"38\", \"41\", \"42\", \"43\", \"45\", \"46\", \"47\", \"48\", \"49\", \"50\", \"51\", \"52\", \"56\"], \"mode\": \"lines\", \"name\": \"AUC_micro_max\", \"stepped\": true, \"type\": \"scatter\", \"data\": [0.97679369106841, 0.97679369106841, 0.97679369106841, 0.97679369106841, 0.97679369106841, 0.97679369106841, 0.97679369106841, 0.97679369106841, 0.97679369106841, 0.97679369106841, 0.97679369106841, 0.97679369106841, 0.9771610286105171, 0.9771610286105171, 0.9771610286105171, 0.9897094472157821, 0.9897094472157821, 0.9897094472157821, 0.9897094472157821, 0.9897094472157821, 0.9897094472157821, 0.9897094472157821, 0.9897094472157821, 0.9897094472157821, 0.9897094472157821, 0.9897094472157821, 0.993962119575053, 0.999635360457615]}], \"average_precision_score_micro\": [{\"categories\": [\"0\", \"1\", \"5\", \"9\", \"13\", \"17\", \"21\", \"23\", \"25\", \"26\", \"28\", \"30\", \"32\", \"35\", \"36\", \"38\", \"41\", \"42\", \"43\", \"45\", \"46\", \"47\", \"48\", \"49\", \"50\", \"51\", \"52\", \"56\"], \"mode\": \"markers\", \"name\": \"average_precision_score_micro\", \"stepped\": false, \"type\": \"scatter\", \"data\": [0.9735946966416419, 0.9741081336732739, 0.9586484930434506, 0.7510557775374745, 0.9535906148974674, 0.7721291397579985, 0.9591807856232117, 0.6749688123073052, 0.9597370479818764, 0.9643806144667804, 0.9656421944156711, 0.9603642968964969, 0.9741510170470444, 0.9727040581011628, 0.9728476816710614, 0.9891820525376441, 0.9542330820687119, 0.9668295305024348, 0.7772180394160683, 0.6851599063757122, 0.7768723494076027, 0.9544485503414173, 0.9669261810348967, 0.7695459797533909, 0.9556757323248805, 0.9638191300129784, 0.9939386852705627, 0.9996393437223883]}, {\"categories\": [\"0\", \"1\", \"5\", \"9\", \"13\", \"17\", \"21\", \"23\", \"25\", \"26\", \"28\", \"30\", \"32\", \"35\", \"36\", \"38\", \"41\", \"42\", \"43\", \"45\", \"46\", \"47\", \"48\", \"49\", \"50\", \"51\", \"52\", \"56\"], \"mode\": \"lines\", \"name\": \"average_precision_score_micro_max\", \"stepped\": true, \"type\": \"scatter\", \"data\": [0.9735946966416419, 0.9741081336732739, 0.9741081336732739, 0.9741081336732739, 0.9741081336732739, 0.9741081336732739, 0.9741081336732739, 0.9741081336732739, 0.9741081336732739, 0.9741081336732739, 0.9741081336732739, 0.9741081336732739, 0.9741510170470444, 0.9741510170470444, 0.9741510170470444, 0.9891820525376441, 0.9891820525376441, 0.9891820525376441, 0.9891820525376441, 0.9891820525376441, 0.9891820525376441, 0.9891820525376441, 0.9891820525376441, 0.9891820525376441, 0.9891820525376441, 0.9891820525376441, 0.9939386852705627, 0.9996393437223883]}], \"recall_score_macro\": [{\"categories\": [\"0\", \"1\", \"5\", \"9\", \"13\", \"17\", \"21\", \"23\", \"25\", \"26\", \"28\", \"30\", \"32\", \"35\", \"36\", \"38\", \"41\", \"42\", \"43\", \"45\", \"46\", \"47\", \"48\", \"49\", \"50\", \"51\", \"52\", \"56\"], \"mode\": \"markers\", \"name\": \"recall_score_macro\", \"stepped\": false, \"type\": \"scatter\", \"data\": [0.5454362303494619, 0.5619854466758943, 0.541512966162505, 0.5526315299688065, 0.5, 0.636874147791861, 0.5431225049378678, 0.6312712354090226, 0.5407251550367398, 0.5308111074396447, 0.5142054542466237, 0.5, 0.5428237417384846, 0.5518844788022441, 0.5459964757739525, 0.7007419830156815, 0.5373779277161423, 0.51643219071824, 0.6785042397802312, 0.6072243054772108, 0.6788752312880719, 0.5417060999347726, 0.5170330815674502, 0.6571915915654516, 0.5, 0.5430044485193268, 0.7227934502310447, 0.917655977354242]}, {\"categories\": [\"0\", \"1\", \"5\", \"9\", \"13\", \"17\", \"21\", \"23\", \"25\", \"26\", \"28\", \"30\", \"32\", \"35\", \"36\", \"38\", \"41\", \"42\", \"43\", \"45\", \"46\", \"47\", \"48\", \"49\", \"50\", \"51\", \"52\", \"56\"], \"mode\": \"lines\", \"name\": \"recall_score_macro_max\", \"stepped\": true, \"type\": \"scatter\", \"data\": [0.5454362303494619, 0.5619854466758943, 0.5619854466758943, 0.5619854466758943, 0.5619854466758943, 0.636874147791861, 0.636874147791861, 0.636874147791861, 0.636874147791861, 0.636874147791861, 0.636874147791861, 0.636874147791861, 0.636874147791861, 0.636874147791861, 0.636874147791861, 0.7007419830156815, 0.7007419830156815, 0.7007419830156815, 0.7007419830156815, 0.7007419830156815, 0.7007419830156815, 0.7007419830156815, 0.7007419830156815, 0.7007419830156815, 0.7007419830156815, 0.7007419830156815, 0.7227934502310447, 0.917655977354242]}], \"average_precision_score_macro\": [{\"categories\": [\"0\", \"1\", \"5\", \"9\", \"13\", \"17\", \"21\", \"23\", \"25\", \"26\", \"28\", \"30\", \"32\", \"35\", \"36\", \"38\", \"41\", \"42\", \"43\", \"45\", \"46\", \"47\", \"48\", \"49\", \"50\", \"51\", \"52\", \"56\"], \"mode\": \"markers\", \"name\": \"average_precision_score_macro\", \"stepped\": false, \"type\": \"scatter\", \"data\": [0.6776973215296933, 0.6826285345121306, 0.6208617356653483, 0.5114947436963342, 0.5427479856006923, 0.552836744477817, 0.6242698664572581, 0.5394831495848873, 0.621359017718953, 0.6155274420234937, 0.5915976138737989, 0.5557790607650537, 0.6702101168262732, 0.6737602801005743, 0.6761745786407595, 0.8491685795138595, 0.6003823445491848, 0.5941343314075345, 0.5837766275228227, 0.5540139964207395, 0.5837714956429864, 0.6025081724059422, 0.594740417402986, 0.5771692335925074, 0.5471604712949742, 0.6376517698269513, 0.8774226165320518, 0.9887033087874624]}, {\"categories\": [\"0\", \"1\", \"5\", \"9\", \"13\", \"17\", \"21\", \"23\", \"25\", \"26\", \"28\", \"30\", \"32\", \"35\", \"36\", \"38\", \"41\", \"42\", \"43\", \"45\", \"46\", \"47\", \"48\", \"49\", \"50\", \"51\", \"52\", \"56\"], \"mode\": \"lines\", \"name\": \"average_precision_score_macro_max\", \"stepped\": true, \"type\": \"scatter\", \"data\": [0.6776973215296933, 0.6826285345121306, 0.6826285345121306, 0.6826285345121306, 0.6826285345121306, 0.6826285345121306, 0.6826285345121306, 0.6826285345121306, 0.6826285345121306, 0.6826285345121306, 0.6826285345121306, 0.6826285345121306, 0.6826285345121306, 0.6826285345121306, 0.6826285345121306, 0.8491685795138595, 0.8491685795138595, 0.8491685795138595, 0.8491685795138595, 0.8491685795138595, 0.8491685795138595, 0.8491685795138595, 0.8491685795138595, 0.8491685795138595, 0.8491685795138595, 0.8491685795138595, 0.8774226165320518, 0.9887033087874624]}], \"AUC_weighted\": [{\"categories\": [\"0\", \"1\", \"5\", \"9\", \"13\", \"17\", \"21\", \"23\", \"25\", \"26\", \"28\", \"30\", \"32\", \"35\", \"36\", \"38\", \"41\", \"42\", \"43\", \"45\", \"46\", \"47\", \"48\", \"49\", \"50\", \"51\", \"52\", \"56\"], \"mode\": \"markers\", \"name\": \"AUC_weighted\", \"stepped\": false, \"type\": \"scatter\", \"data\": [0.7865339617649534, 0.7851723457696471, 0.7006628783431901, 0.5705858696517407, 0.6423871591954868, 0.687013358729446, 0.7027951625215684, 0.6681800599473486, 0.7038475168065037, 0.7144153530038673, 0.720540289222477, 0.6856659464356583, 0.7903170596770828, 0.7802019634681633, 0.7828421762100803, 0.9129254131597123, 0.6744799862444086, 0.7251989249220736, 0.7345115748548705, 0.6516909241157509, 0.734755186837239, 0.6824578756487663, 0.725897837245354, 0.7140569087486592, 0.6586063529987132, 0.7263824727307713, 0.9545782354290279, 0.9984605420115348]}, {\"categories\": [\"0\", \"1\", \"5\", \"9\", \"13\", \"17\", \"21\", \"23\", \"25\", \"26\", \"28\", \"30\", \"32\", \"35\", \"36\", \"38\", \"41\", \"42\", \"43\", \"45\", \"46\", \"47\", \"48\", \"49\", \"50\", \"51\", \"52\", \"56\"], \"mode\": \"lines\", \"name\": \"AUC_weighted_max\", \"stepped\": true, \"type\": \"scatter\", \"data\": [0.7865339617649534, 0.7865339617649534, 0.7865339617649534, 0.7865339617649534, 0.7865339617649534, 0.7865339617649534, 0.7865339617649534, 0.7865339617649534, 0.7865339617649534, 0.7865339617649534, 0.7865339617649534, 0.7865339617649534, 0.7903170596770828, 0.7903170596770828, 0.7903170596770828, 0.9129254131597123, 0.9129254131597123, 0.9129254131597123, 0.9129254131597123, 0.9129254131597123, 0.9129254131597123, 0.9129254131597123, 0.9129254131597123, 0.9129254131597123, 0.9129254131597123, 0.9129254131597123, 0.9545782354290279, 0.9984605420115348]}], \"recall_score_micro\": [{\"categories\": [\"0\", \"1\", \"5\", \"9\", \"13\", \"17\", \"21\", \"23\", \"25\", \"26\", \"28\", \"30\", \"32\", \"35\", \"36\", \"38\", \"41\", \"42\", \"43\", \"45\", \"46\", \"47\", \"48\", \"49\", \"50\", \"51\", \"52\", \"56\"], \"mode\": \"markers\", \"name\": \"recall_score_micro\", \"stepped\": false, \"type\": \"scatter\", \"data\": [0.9527296309397477, 0.9545572456078293, 0.9523169437566325, 0.7543803796722085, 0.9488267892937153, 0.7870416224501827, 0.9526824666902488, 0.7950241716778682, 0.9522697795071335, 0.951243957080533, 0.9497229100341941, 0.9488267892937153, 0.9525291828793774, 0.9535903784931022, 0.952965452187242, 0.9686357740832449, 0.951916047635892, 0.9496049994104468, 0.7640726329442282, 0.6726565263530244, 0.7637424831977361, 0.9522697795071335, 0.9497111189718194, 0.7962268600400896, 0.9488267892937153, 0.9524584365051291, 0.9707699563730692, 0.9905907322249735]}, {\"categories\": [\"0\", \"1\", \"5\", \"9\", \"13\", \"17\", \"21\", \"23\", \"25\", \"26\", \"28\", \"30\", \"32\", \"35\", \"36\", \"38\", \"41\", \"42\", \"43\", \"45\", \"46\", \"47\", \"48\", \"49\", \"50\", \"51\", \"52\", \"56\"], \"mode\": \"lines\", \"name\": \"recall_score_micro_max\", \"stepped\": true, \"type\": \"scatter\", \"data\": [0.9527296309397477, 0.9545572456078293, 0.9545572456078293, 0.9545572456078293, 0.9545572456078293, 0.9545572456078293, 0.9545572456078293, 0.9545572456078293, 0.9545572456078293, 0.9545572456078293, 0.9545572456078293, 0.9545572456078293, 0.9545572456078293, 0.9545572456078293, 0.9545572456078293, 0.9686357740832449, 0.9686357740832449, 0.9686357740832449, 0.9686357740832449, 0.9686357740832449, 0.9686357740832449, 0.9686357740832449, 0.9686357740832449, 0.9686357740832449, 0.9686357740832449, 0.9686357740832449, 0.9707699563730692, 0.9905907322249735]}], \"accuracy\": [{\"categories\": [\"0\", \"1\", \"5\", \"9\", \"13\", \"17\", \"21\", \"23\", \"25\", \"26\", \"28\", \"30\", \"32\", \"35\", \"36\", \"38\", \"41\", \"42\", \"43\", \"45\", \"46\", \"47\", \"48\", \"49\", \"50\", \"51\", \"52\", \"56\"], \"mode\": \"markers\", \"name\": \"accuracy\", \"stepped\": false, \"type\": \"scatter\", \"data\": [0.9527296309397477, 0.9545572456078293, 0.9523169437566325, 0.7543803796722085, 0.9488267892937153, 0.7870416224501827, 0.9526824666902488, 0.7950241716778682, 0.9522697795071335, 0.951243957080533, 0.9497229100341941, 0.9488267892937153, 0.9525291828793774, 0.9535903784931022, 0.952965452187242, 0.9686357740832449, 0.951916047635892, 0.9496049994104468, 0.7640726329442282, 0.6726565263530244, 0.7637424831977361, 0.9522697795071335, 0.9497111189718194, 0.7962268600400896, 0.9488267892937153, 0.9524584365051291, 0.9707699563730692, 0.9905907322249735]}, {\"categories\": [\"0\", \"1\", \"5\", \"9\", \"13\", \"17\", \"21\", \"23\", \"25\", \"26\", \"28\", \"30\", \"32\", \"35\", \"36\", \"38\", \"41\", \"42\", \"43\", \"45\", \"46\", \"47\", \"48\", \"49\", \"50\", \"51\", \"52\", \"56\"], \"mode\": \"lines\", \"name\": \"accuracy_max\", \"stepped\": true, \"type\": \"scatter\", \"data\": [0.9527296309397477, 0.9545572456078293, 0.9545572456078293, 0.9545572456078293, 0.9545572456078293, 0.9545572456078293, 0.9545572456078293, 0.9545572456078293, 0.9545572456078293, 0.9545572456078293, 0.9545572456078293, 0.9545572456078293, 0.9545572456078293, 0.9545572456078293, 0.9545572456078293, 0.9686357740832449, 0.9686357740832449, 0.9686357740832449, 0.9686357740832449, 0.9686357740832449, 0.9686357740832449, 0.9686357740832449, 0.9686357740832449, 0.9686357740832449, 0.9686357740832449, 0.9686357740832449, 0.9707699563730692, 0.9905907322249735]}], \"precision_score_micro\": [{\"categories\": [\"0\", \"1\", \"5\", \"9\", \"13\", \"17\", \"21\", \"23\", \"25\", \"26\", \"28\", \"30\", \"32\", \"35\", \"36\", \"38\", \"41\", \"42\", \"43\", \"45\", \"46\", \"47\", \"48\", \"49\", \"50\", \"51\", \"52\", \"56\"], \"mode\": \"markers\", \"name\": \"precision_score_micro\", \"stepped\": false, \"type\": \"scatter\", \"data\": [0.9527296309397477, 0.9545572456078293, 0.9523169437566325, 0.7543803796722085, 0.9488267892937153, 0.7870416224501827, 0.9526824666902488, 0.7950241716778682, 0.9522697795071335, 0.951243957080533, 0.9497229100341941, 0.9488267892937153, 0.9525291828793774, 0.9535903784931022, 0.952965452187242, 0.9686357740832449, 0.951916047635892, 0.9496049994104468, 0.7640726329442282, 0.6726565263530244, 0.7637424831977361, 0.9522697795071335, 0.9497111189718194, 0.7962268600400896, 0.9488267892937153, 0.9524584365051291, 0.9707699563730692, 0.9905907322249735]}, {\"categories\": [\"0\", \"1\", \"5\", \"9\", \"13\", \"17\", \"21\", \"23\", \"25\", \"26\", \"28\", \"30\", \"32\", \"35\", \"36\", \"38\", \"41\", \"42\", \"43\", \"45\", \"46\", \"47\", \"48\", \"49\", \"50\", \"51\", \"52\", \"56\"], \"mode\": \"lines\", \"name\": \"precision_score_micro_max\", \"stepped\": true, \"type\": \"scatter\", \"data\": [0.9527296309397477, 0.9545572456078293, 0.9545572456078293, 0.9545572456078293, 0.9545572456078293, 0.9545572456078293, 0.9545572456078293, 0.9545572456078293, 0.9545572456078293, 0.9545572456078293, 0.9545572456078293, 0.9545572456078293, 0.9545572456078293, 0.9545572456078293, 0.9545572456078293, 0.9686357740832449, 0.9686357740832449, 0.9686357740832449, 0.9686357740832449, 0.9686357740832449, 0.9686357740832449, 0.9686357740832449, 0.9686357740832449, 0.9686357740832449, 0.9686357740832449, 0.9686357740832449, 0.9707699563730692, 0.9905907322249735]}], \"norm_macro_recall\": [{\"categories\": [\"0\", \"1\", \"5\", \"9\", \"13\", \"17\", \"21\", \"23\", \"25\", \"26\", \"28\", \"30\", \"32\", \"35\", \"36\", \"38\", \"41\", \"42\", \"43\", \"45\", \"46\", \"47\", \"48\", \"49\", \"50\", \"51\", \"52\", \"56\"], \"mode\": \"markers\", \"name\": \"norm_macro_recall\", \"stepped\": false, \"type\": \"scatter\", \"data\": [0.09087246069892374, 0.12397089335178868, 0.08302593232500999, 0.10526305993761298, 0.0, 0.27374829558372205, 0.08624500987573569, 0.26254247081804527, 0.08145031007347958, 0.061622214879289317, 0.028410908493247344, 0.0, 0.08564748347696916, 0.10376895760448823, 0.09199295154790499, 0.40148396603136294, 0.07475585543228469, 0.03286438143647996, 0.35700847956046244, 0.2144486109544217, 0.35775046257614385, 0.08341219986954518, 0.03406616313490041, 0.3143831831309032, 0.0, 0.08600889703865366, 0.4455869004620894, 0.835311954708484]}, {\"categories\": [\"0\", \"1\", \"5\", \"9\", \"13\", \"17\", \"21\", \"23\", \"25\", \"26\", \"28\", \"30\", \"32\", \"35\", \"36\", \"38\", \"41\", \"42\", \"43\", \"45\", \"46\", \"47\", \"48\", \"49\", \"50\", \"51\", \"52\", \"56\"], \"mode\": \"lines\", \"name\": \"norm_macro_recall_max\", \"stepped\": true, \"type\": \"scatter\", \"data\": [0.09087246069892374, 0.12397089335178868, 0.12397089335178868, 0.12397089335178868, 0.12397089335178868, 0.27374829558372205, 0.27374829558372205, 0.27374829558372205, 0.27374829558372205, 0.27374829558372205, 0.27374829558372205, 0.27374829558372205, 0.27374829558372205, 0.27374829558372205, 0.27374829558372205, 0.40148396603136294, 0.40148396603136294, 0.40148396603136294, 0.40148396603136294, 0.40148396603136294, 0.40148396603136294, 0.40148396603136294, 0.40148396603136294, 0.40148396603136294, 0.40148396603136294, 0.40148396603136294, 0.4455869004620894, 0.835311954708484]}], \"AUC_macro\": [{\"categories\": [\"0\", \"1\", \"5\", \"9\", \"13\", \"17\", \"21\", \"23\", \"25\", \"26\", \"28\", \"30\", \"32\", \"35\", \"36\", \"38\", \"41\", \"42\", \"43\", \"45\", \"46\", \"47\", \"48\", \"49\", \"50\", \"51\", \"52\", \"56\"], \"mode\": \"markers\", \"name\": \"AUC_macro\", \"stepped\": false, \"type\": \"scatter\", \"data\": [0.7865339617649535, 0.7851723207091517, 0.70066287834319, 0.5705858696517407, 0.6423871591954868, 0.687013358729446, 0.7027951625215683, 0.6681800599473485, 0.7038475168065037, 0.7144153530038673, 0.7205402892224769, 0.6856659464356583, 0.7903170686731581, 0.7802019429057054, 0.782842177495234, 0.9129253932398311, 0.6744799862444086, 0.7251989249220736, 0.7345115748548705, 0.6516909241157509, 0.7347551868372391, 0.6824578756487663, 0.725897837245354, 0.7140569087486592, 0.6586063529987132, 0.7263824727307713, 0.9545782360716046, 0.9984605420115348]}, {\"categories\": [\"0\", \"1\", \"5\", \"9\", \"13\", \"17\", \"21\", \"23\", \"25\", \"26\", \"28\", \"30\", \"32\", \"35\", \"36\", \"38\", \"41\", \"42\", \"43\", \"45\", \"46\", \"47\", \"48\", \"49\", \"50\", \"51\", \"52\", \"56\"], \"mode\": \"lines\", \"name\": \"AUC_macro_max\", \"stepped\": true, \"type\": \"scatter\", \"data\": [0.7865339617649535, 0.7865339617649535, 0.7865339617649535, 0.7865339617649535, 0.7865339617649535, 0.7865339617649535, 0.7865339617649535, 0.7865339617649535, 0.7865339617649535, 0.7865339617649535, 0.7865339617649535, 0.7865339617649535, 0.7903170686731581, 0.7903170686731581, 0.7903170686731581, 0.9129253932398311, 0.9129253932398311, 0.9129253932398311, 0.9129253932398311, 0.9129253932398311, 0.9129253932398311, 0.9129253932398311, 0.9129253932398311, 0.9129253932398311, 0.9129253932398311, 0.9129253932398311, 0.9545782360716046, 0.9984605420115348]}], \"average_precision_score_weighted\": [{\"categories\": [\"0\", \"1\", \"5\", \"9\", \"13\", \"17\", \"21\", \"23\", \"25\", \"26\", \"28\", \"30\", \"32\", \"35\", \"36\", \"38\", \"41\", \"42\", \"43\", \"45\", \"46\", \"47\", \"48\", \"49\", \"50\", \"51\", \"52\", \"56\"], \"mode\": \"markers\", \"name\": \"average_precision_score_weighted\", \"stepped\": false, \"type\": \"scatter\", \"data\": [0.9504635163178925, 0.9514090184118218, 0.9339696406832145, 0.9109117193497057, 0.9218165783458019, 0.9282996070545902, 0.9346065877848537, 0.9246058019045531, 0.9345127269333254, 0.9374016840061382, 0.9360254036565898, 0.9283762306363055, 0.9501986490379092, 0.9494940379892791, 0.9496989173192424, 0.978713159453929, 0.9290673312105727, 0.937290580391032, 0.937353077826607, 0.9231312463567175, 0.9373834834858066, 0.9299655091958401, 0.9374274416435889, 0.9336062765750596, 0.9236529254465782, 0.9391430208465437, 0.9847830597959925, 0.998768519265067]}, {\"categories\": [\"0\", \"1\", \"5\", \"9\", \"13\", \"17\", \"21\", \"23\", \"25\", \"26\", \"28\", \"30\", \"32\", \"35\", \"36\", \"38\", \"41\", \"42\", \"43\", \"45\", \"46\", \"47\", \"48\", \"49\", \"50\", \"51\", \"52\", \"56\"], \"mode\": \"lines\", \"name\": \"average_precision_score_weighted_max\", \"stepped\": true, \"type\": \"scatter\", \"data\": [0.9504635163178925, 0.9514090184118218, 0.9514090184118218, 0.9514090184118218, 0.9514090184118218, 0.9514090184118218, 0.9514090184118218, 0.9514090184118218, 0.9514090184118218, 0.9514090184118218, 0.9514090184118218, 0.9514090184118218, 0.9514090184118218, 0.9514090184118218, 0.9514090184118218, 0.978713159453929, 0.978713159453929, 0.978713159453929, 0.978713159453929, 0.978713159453929, 0.978713159453929, 0.978713159453929, 0.978713159453929, 0.978713159453929, 0.978713159453929, 0.978713159453929, 0.9847830597959925, 0.998768519265067]}], \"matthews_correlation\": [{\"categories\": [\"0\", \"1\", \"5\", \"9\", \"13\", \"17\", \"21\", \"23\", \"25\", \"26\", \"28\", \"30\", \"32\", \"35\", \"36\", \"38\", \"41\", \"42\", \"43\", \"45\", \"46\", \"47\", \"48\", \"49\", \"50\", \"51\", \"52\", \"56\"], \"mode\": \"markers\", \"name\": \"matthews_correlation\", \"stepped\": false, \"type\": \"scatter\", \"data\": [0.27116773026803054, 0.3270139792572496, 0.25699172504155304, 0.055285620324978316, 0.0, 0.14813591307955423, 0.2685062649919377, 0.14469909201975603, 0.2550692086660497, 0.21583668393253808, 0.13756825209673956, 0.0, 0.2638936307643749, 0.2980870214784793, 0.27810369196855067, 0.611810830468401, 0.24224040573439562, 0.13985594412689364, 0.18305112749786143, 0.10042881462237746, 0.18331804786129102, 0.2558415501576038, 0.14465416353433352, 0.17190772682686262, 0.0, 0.26203495720171655, 0.6446955904129664, 0.8990148464284495]}, {\"categories\": [\"0\", \"1\", \"5\", \"9\", \"13\", \"17\", \"21\", \"23\", \"25\", \"26\", \"28\", \"30\", \"32\", \"35\", \"36\", \"38\", \"41\", \"42\", \"43\", \"45\", \"46\", \"47\", \"48\", \"49\", \"50\", \"51\", \"52\", \"56\"], \"mode\": \"lines\", \"name\": \"matthews_correlation_max\", \"stepped\": true, \"type\": \"scatter\", \"data\": [0.27116773026803054, 0.3270139792572496, 0.3270139792572496, 0.3270139792572496, 0.3270139792572496, 0.3270139792572496, 0.3270139792572496, 0.3270139792572496, 0.3270139792572496, 0.3270139792572496, 0.3270139792572496, 0.3270139792572496, 0.3270139792572496, 0.3270139792572496, 0.3270139792572496, 0.611810830468401, 0.611810830468401, 0.611810830468401, 0.611810830468401, 0.611810830468401, 0.611810830468401, 0.611810830468401, 0.611810830468401, 0.611810830468401, 0.611810830468401, 0.611810830468401, 0.6446955904129664, 0.8990148464284495]}], \"balanced_accuracy\": [{\"categories\": [\"0\", \"1\", \"5\", \"9\", \"13\", \"17\", \"21\", \"23\", \"25\", \"26\", \"28\", \"30\", \"32\", \"35\", \"36\", \"38\", \"41\", \"42\", \"43\", \"45\", \"46\", \"47\", \"48\", \"49\", \"50\", \"51\", \"52\", \"56\"], \"mode\": \"markers\", \"name\": \"balanced_accuracy\", \"stepped\": false, \"type\": \"scatter\", \"data\": [0.5454362303494619, 0.5619854466758943, 0.541512966162505, 0.5526315299688065, 0.5, 0.636874147791861, 0.5431225049378678, 0.6312712354090226, 0.5407251550367398, 0.5308111074396447, 0.5142054542466237, 0.5, 0.5428237417384846, 0.5518844788022441, 0.5459964757739525, 0.7007419830156815, 0.5373779277161423, 0.51643219071824, 0.6785042397802312, 0.6072243054772108, 0.6788752312880719, 0.5417060999347726, 0.5170330815674502, 0.6571915915654516, 0.5, 0.5430044485193268, 0.7227934502310447, 0.917655977354242]}, {\"categories\": [\"0\", \"1\", \"5\", \"9\", \"13\", \"17\", \"21\", \"23\", \"25\", \"26\", \"28\", \"30\", \"32\", \"35\", \"36\", \"38\", \"41\", \"42\", \"43\", \"45\", \"46\", \"47\", \"48\", \"49\", \"50\", \"51\", \"52\", \"56\"], \"mode\": \"lines\", \"name\": \"balanced_accuracy_max\", \"stepped\": true, \"type\": \"scatter\", \"data\": [0.5454362303494619, 0.5619854466758943, 0.5619854466758943, 0.5619854466758943, 0.5619854466758943, 0.636874147791861, 0.636874147791861, 0.636874147791861, 0.636874147791861, 0.636874147791861, 0.636874147791861, 0.636874147791861, 0.636874147791861, 0.636874147791861, 0.636874147791861, 0.7007419830156815, 0.7007419830156815, 0.7007419830156815, 0.7007419830156815, 0.7007419830156815, 0.7007419830156815, 0.7007419830156815, 0.7007419830156815, 0.7007419830156815, 0.7007419830156815, 0.7007419830156815, 0.7227934502310447, 0.917655977354242]}], \"weighted_accuracy\": [{\"categories\": [\"0\", \"1\", \"5\", \"9\", \"13\", \"17\", \"21\", \"23\", \"25\", \"26\", \"28\", \"30\", \"32\", \"35\", \"36\", \"38\", \"41\", \"42\", \"43\", \"45\", \"46\", \"47\", \"48\", \"49\", \"50\", \"51\", \"52\", \"56\"], \"mode\": \"markers\", \"name\": \"weighted_accuracy\", \"stepped\": false, \"type\": \"scatter\", \"data\": [0.996535435580655, 0.9967796914088626, 0.9965003230161912, 0.7760791616407513, 0.9970996525930256, 0.8031926503056971, 0.9967320477717502, 0.8126363626074825, 0.9965328178830016, 0.9964629546122793, 0.9965643087857708, 0.9970996525930256, 0.9965944107689617, 0.996795228214346, 0.996736363893234, 0.9974486717609627, 0.9965010467326012, 0.9961942233110134, 0.7732758076309427, 0.6796939865248623, 0.7728702477335164, 0.9964273138888183, 0.9962471285204086, 0.8111805808717288, 0.9970996525930256, 0.9964966197439228, 0.9974406816238316, 0.9984351157057009]}, {\"categories\": [\"0\", \"1\", \"5\", \"9\", \"13\", \"17\", \"21\", \"23\", \"25\", \"26\", \"28\", \"30\", \"32\", \"35\", \"36\", \"38\", \"41\", \"42\", \"43\", \"45\", \"46\", \"47\", \"48\", \"49\", \"50\", \"51\", \"52\", \"56\"], \"mode\": \"lines\", \"name\": \"weighted_accuracy_max\", \"stepped\": true, \"type\": \"scatter\", \"data\": [0.996535435580655, 0.9967796914088626, 0.9967796914088626, 0.9967796914088626, 0.9970996525930256, 0.9970996525930256, 0.9970996525930256, 0.9970996525930256, 0.9970996525930256, 0.9970996525930256, 0.9970996525930256, 0.9970996525930256, 0.9970996525930256, 0.9970996525930256, 0.9970996525930256, 0.9974486717609627, 0.9974486717609627, 0.9974486717609627, 0.9974486717609627, 0.9974486717609627, 0.9974486717609627, 0.9974486717609627, 0.9974486717609627, 0.9974486717609627, 0.9974486717609627, 0.9974486717609627, 0.9974486717609627, 0.9984351157057009]}], \"f1_score_weighted\": [{\"categories\": [\"0\", \"1\", \"5\", \"9\", \"13\", \"17\", \"21\", \"23\", \"25\", \"26\", \"28\", \"30\", \"32\", \"35\", \"36\", \"38\", \"41\", \"42\", \"43\", \"45\", \"46\", \"47\", \"48\", \"49\", \"50\", \"51\", \"52\", \"56\"], \"mode\": \"markers\", \"name\": \"f1_score_weighted\", \"stepped\": false, \"type\": \"scatter\", \"data\": [0.9342246900301183, 0.937839436455155, 0.9333572748412415, 0.8195482025367267, 0.9239120490617773, 0.8420542941946693, 0.9338236996742748, 0.8470024813575096, 0.933201612811114, 0.9309706693753601, 0.9271777969019442, 0.9239120490617773, 0.9336895004928306, 0.9357376245633862, 0.9344481380018174, 0.9624341495839088, 0.9324513539367759, 0.9275505906849585, 0.8278189313411273, 0.7641879265207817, 0.8276052966443636, 0.933362877988364, 0.9277134600726018, 0.8483249180940744, 0.9239120490617773, 0.933679535556161, 0.9656311246082722, 0.9902456922368614]}, {\"categories\": [\"0\", \"1\", \"5\", \"9\", \"13\", \"17\", \"21\", \"23\", \"25\", \"26\", \"28\", \"30\", \"32\", \"35\", \"36\", \"38\", \"41\", \"42\", \"43\", \"45\", \"46\", \"47\", \"48\", \"49\", \"50\", \"51\", \"52\", \"56\"], \"mode\": \"lines\", \"name\": \"f1_score_weighted_max\", \"stepped\": true, \"type\": \"scatter\", \"data\": [0.9342246900301183, 0.937839436455155, 0.937839436455155, 0.937839436455155, 0.937839436455155, 0.937839436455155, 0.937839436455155, 0.937839436455155, 0.937839436455155, 0.937839436455155, 0.937839436455155, 0.937839436455155, 0.937839436455155, 0.937839436455155, 0.937839436455155, 0.9624341495839088, 0.9624341495839088, 0.9624341495839088, 0.9624341495839088, 0.9624341495839088, 0.9624341495839088, 0.9624341495839088, 0.9624341495839088, 0.9624341495839088, 0.9624341495839088, 0.9624341495839088, 0.9656311246082722, 0.9902456922368614]}]}, \"metricName\": null, \"primaryMetricName\": \"AUC_weighted\", \"showLegend\": false}, \"run_metrics\": [{\"name\": \"experiment_status\", \"run_id\": \"AutoML_1381d957-e54f-4dfe-a306-e06771ae17b0\", \"categories\": [0, 1, 2, 3, 4, 5, 6, 7, 8, 9, 10, 11, 12, 13], \"series\": [{\"data\": [\"DatasetEvaluation\", \"FeaturesGeneration\", \"DatasetFeaturization\", \"DatasetFeaturizationCompleted\", \"DatasetBalancing\", \"ModelSelection\", \"BestRunExplainModel\", \"ModelExplanationDataSetSetup\", \"PickSurrogateModel\", \"EngineeredFeatureExplanations\", \"EngineeredFeatureExplanations\", \"RawFeaturesExplanations\", \"RawFeaturesExplanations\", \"BestRunExplainModel\"]}]}, {\"name\": \"experiment_status_description\", \"run_id\": \"AutoML_1381d957-e54f-4dfe-a306-e06771ae17b0\", \"categories\": [0, 1, 2, 3, 4, 5, 6, 7, 8, 9, 10, 11, 12, 13], \"series\": [{\"data\": [\"Gathering dataset statistics.\", \"Generating features for the dataset.\", \"Beginning to fit featurizers and featurize the dataset.\", \"Completed fit featurizers and featurizing the dataset.\", \"Performing class balancing sweeping\", \"Beginning model selection.\", \"Best run model explanations started\", \"Model explanations data setup completed\", \"Choosing LightGBM as the surrogate model for explanations\", \"Computation of engineered features started\", \"Computation of engineered features completed\", \"Computation of raw features started\", \"Computation of raw features completed\", \"Best run model explanations completed\"]}]}, {\"name\": \"average_precision_score_macro\", \"run_id\": \"AutoML_1381d957-e54f-4dfe-a306-e06771ae17b0\", \"categories\": [0], \"series\": [{\"data\": [0.9887033087874624]}]}, {\"name\": \"average_precision_score_micro\", \"run_id\": \"AutoML_1381d957-e54f-4dfe-a306-e06771ae17b0\", \"categories\": [0], \"series\": [{\"data\": [0.9996393437223883]}]}, {\"name\": \"balanced_accuracy\", \"run_id\": \"AutoML_1381d957-e54f-4dfe-a306-e06771ae17b0\", \"categories\": [0], \"series\": [{\"data\": [0.917655977354242]}]}, {\"name\": \"precision_score_weighted\", \"run_id\": \"AutoML_1381d957-e54f-4dfe-a306-e06771ae17b0\", \"categories\": [0], \"series\": [{\"data\": [0.9904813585637608]}]}, {\"name\": \"average_precision_score_weighted\", \"run_id\": \"AutoML_1381d957-e54f-4dfe-a306-e06771ae17b0\", \"categories\": [0], \"series\": [{\"data\": [0.998768519265067]}]}, {\"name\": \"AUC_weighted\", \"run_id\": \"AutoML_1381d957-e54f-4dfe-a306-e06771ae17b0\", \"categories\": [0], \"series\": [{\"data\": [0.9984605420115348]}]}, {\"name\": \"accuracy\", \"run_id\": \"AutoML_1381d957-e54f-4dfe-a306-e06771ae17b0\", \"categories\": [0], \"series\": [{\"data\": [0.9905907322249735]}]}, {\"name\": \"f1_score_macro\", \"run_id\": \"AutoML_1381d957-e54f-4dfe-a306-e06771ae17b0\", \"categories\": [0], \"series\": [{\"data\": [0.948014350926629]}]}, {\"name\": \"weighted_accuracy\", \"run_id\": \"AutoML_1381d957-e54f-4dfe-a306-e06771ae17b0\", \"categories\": [0], \"series\": [{\"data\": [0.9984351157057009]}]}, {\"name\": \"precision_score_micro\", \"run_id\": \"AutoML_1381d957-e54f-4dfe-a306-e06771ae17b0\", \"categories\": [0], \"series\": [{\"data\": [0.9905907322249735]}]}, {\"name\": \"f1_score_weighted\", \"run_id\": \"AutoML_1381d957-e54f-4dfe-a306-e06771ae17b0\", \"categories\": [0], \"series\": [{\"data\": [0.9902456922368614]}]}, {\"name\": \"recall_score_macro\", \"run_id\": \"AutoML_1381d957-e54f-4dfe-a306-e06771ae17b0\", \"categories\": [0], \"series\": [{\"data\": [0.917655977354242]}]}, {\"name\": \"log_loss\", \"run_id\": \"AutoML_1381d957-e54f-4dfe-a306-e06771ae17b0\", \"categories\": [0], \"series\": [{\"data\": [0.03029622784278983]}]}, {\"name\": \"AUC_macro\", \"run_id\": \"AutoML_1381d957-e54f-4dfe-a306-e06771ae17b0\", \"categories\": [0], \"series\": [{\"data\": [0.9984605420115348]}]}, {\"name\": \"recall_score_micro\", \"run_id\": \"AutoML_1381d957-e54f-4dfe-a306-e06771ae17b0\", \"categories\": [0], \"series\": [{\"data\": [0.9905907322249735]}]}, {\"name\": \"precision_score_macro\", \"run_id\": \"AutoML_1381d957-e54f-4dfe-a306-e06771ae17b0\", \"categories\": [0], \"series\": [{\"data\": [0.9837879366762041]}]}, {\"name\": \"AUC_micro\", \"run_id\": \"AutoML_1381d957-e54f-4dfe-a306-e06771ae17b0\", \"categories\": [0], \"series\": [{\"data\": [0.999635360457615]}]}, {\"name\": \"f1_score_micro\", \"run_id\": \"AutoML_1381d957-e54f-4dfe-a306-e06771ae17b0\", \"categories\": [0], \"series\": [{\"data\": [0.9905907322249735]}]}, {\"name\": \"norm_macro_recall\", \"run_id\": \"AutoML_1381d957-e54f-4dfe-a306-e06771ae17b0\", \"categories\": [0], \"series\": [{\"data\": [0.835311954708484]}]}, {\"name\": \"matthews_correlation\", \"run_id\": \"AutoML_1381d957-e54f-4dfe-a306-e06771ae17b0\", \"categories\": [0], \"series\": [{\"data\": [0.8990148464284495]}]}, {\"name\": \"recall_score_weighted\", \"run_id\": \"AutoML_1381d957-e54f-4dfe-a306-e06771ae17b0\", \"categories\": [0], \"series\": [{\"data\": [0.9905907322249735]}]}], \"run_logs\": \"\\nRun is completed.\", \"graph\": {}, \"widget_settings\": {\"childWidgetDisplay\": \"popup\", \"send_telemetry\": false, \"log_level\": \"INFO\", \"sdk_version\": \"1.51.0\"}, \"loading\": false}"
     },
     "metadata": {},
     "output_type": "display_data"
    }
   ],
   "source": [
    "from azureml.widgets import RunDetails\n",
    "RunDetails(remote_run).show()"
   ]
  },
  {
   "cell_type": "code",
   "execution_count": null,
   "metadata": {},
   "outputs": [],
   "source": [
    "# make sure that the experiment is finished\n",
    "\n",
    "remote_run.wait_for_completion()"
   ]
  },
  {
   "cell_type": "code",
   "execution_count": 11,
   "metadata": {},
   "outputs": [
    {
     "name": "stdout",
     "output_type": "stream",
     "text": [
      "AUC_weighted 0.9984605420115348\n"
     ]
    }
   ],
   "source": [
    "# print best metric\n",
    "\n",
    "automl_run_metrics = remote_run.get_metrics()\n",
    "print('AUC_weighted', automl_run_metrics['AUC_weighted'])"
   ]
  },
  {
   "cell_type": "markdown",
   "metadata": {},
   "source": [
    "## Best Model\n",
    "\n",
    "TODO: In the cell below, get the best model from the automl experiments and display all the properties of the model.\n",
    "\n"
   ]
  },
  {
   "cell_type": "code",
   "execution_count": 12,
   "metadata": {
    "gather": {
     "logged": 1598431425670
    },
    "jupyter": {
     "outputs_hidden": false,
     "source_hidden": false
    },
    "nteract": {
     "transient": {
      "deleting": false
     }
    }
   },
   "outputs": [
    {
     "name": "stderr",
     "output_type": "stream",
     "text": [
      "WARNING:root:The version of the SDK does not match the version the model was trained on.\n",
      "WARNING:root:The consistency in the result may not be guaranteed.\n",
      "WARNING:root:Package:azureml-automl-core, training version:1.52.0.post1, current version:1.51.0.post1\n",
      "Package:azureml-automl-runtime, training version:1.52.0.post1, current version:1.51.0.post1\n",
      "Package:azureml-core, training version:1.52.0, current version:1.51.0\n",
      "Package:azureml-dataprep, training version:4.11.4, current version:4.10.8\n",
      "Package:azureml-dataprep-rslex, training version:2.18.4, current version:2.17.12\n",
      "Package:azureml-dataset-runtime, training version:1.52.0, current version:1.51.0\n",
      "Package:azureml-defaults, training version:1.52.0, current version:1.51.0\n",
      "Package:azureml-interpret, training version:1.52.0, current version:1.51.0\n",
      "Package:azureml-mlflow, training version:1.52.0, current version:1.51.0\n",
      "Package:azureml-pipeline-core, training version:1.52.0, current version:1.51.0\n",
      "Package:azureml-responsibleai, training version:1.52.0, current version:1.51.0\n",
      "Package:azureml-telemetry, training version:1.52.0, current version:1.51.0\n",
      "Package:azureml-train-automl-client, training version:1.52.0, current version:1.51.0.post1\n",
      "Package:azureml-train-automl-runtime, training version:1.52.0, current version:1.51.0.post2\n",
      "Package:azureml-train-core, training version:1.52.0, current version:1.51.0\n",
      "Package:azureml-train-restclients-hyperdrive, training version:1.52.0, current version:1.51.0\n",
      "Package:azureml-training-tabular, training version:1.52.0, current version:1.51.0.post1\n",
      "WARNING:root:Please ensure the version of your local conda dependencies match the version on which your model was trained in order to properly retrieve your model.\n"
     ]
    },
    {
     "data": {
      "text/plain": [
       "Pipeline(memory=None,\n",
       "         steps=[('datatransformer',\n",
       "                 DataTransformer(enable_dnn=False, enable_feature_sweeping=False, feature_sweeping_config={}, feature_sweeping_timeout=86400, featurization_config=None, force_text_dnn=False, is_cross_validation=False, is_onnx_compatible=True, observer=None, task='classification', working_dir='/mnt/batch/tasks/shared/LS_root/moun...\n",
       "                 PreFittedSoftVotingClassifier(classification_labels=array([0, 1]), estimators=[('14', Pipeline(memory=None, steps=[('standardscalerwrapper', StandardScalerWrapper(copy=True, with_mean=False, with_std=False)), ('randomforestclassifier', RandomForestClassifier(bootstrap=True, ccp_alpha=0.0, class_weight=None, criterion='gini', max_depth=None, max_features='auto', max_leaf_nodes=None, max_samples=None, min_impurity_decrease=0.0, min_impurity_split=None, min_samples_leaf=1, min_samples_split=2, min_weight_fraction_leaf=0.0, n_estimators=100, n_jobs=1, oob_score=False, random_state=None, verbose=0, warm_start=False))], verbose=False)), ('52', Pipeline(memory=None, steps=[('standardscalerwrapper', StandardScalerWrapper(copy=True, with_mean=False, with_std=False)), ('xgboostclassifier', XGBoostClassifier(booster='gbtree', colsample_bytree=1, eta=0.5, gamma=0, grow_policy='lossguide', max_bin=255, max_depth=0, max_leaves=63, n_estimators=200, n_jobs=1, objective='reg:logistic', problem_info=ProblemInfo(gpu_training_param_dict={'processing_unit_type': 'cpu'}), random_state=0, reg_alpha=0, reg_lambda=2.1875, subsample=0.9, tree_method='hist'))], verbose=False))], flatten_transform=None, weights=[0.9333333333333333, 0.06666666666666667]))],\n",
       "         verbose=False)"
      ]
     },
     "execution_count": 12,
     "metadata": {},
     "output_type": "execute_result"
    }
   ],
   "source": [
    "# get best model and print all properties\n",
    "\n",
    "best_run, fitted_model = remote_run.get_output()\n",
    "fitted_model"
   ]
  },
  {
   "cell_type": "code",
   "execution_count": 15,
   "metadata": {
    "gather": {
     "logged": 1598431426111
    },
    "jupyter": {
     "outputs_hidden": false,
     "source_hidden": false
    },
    "nteract": {
     "transient": {
      "deleting": false
     }
    }
   },
   "outputs": [
    {
     "data": {
      "text/plain": [
       "['Debts-AutoML-bestmodel.pkl']"
      ]
     },
     "execution_count": 15,
     "metadata": {},
     "output_type": "execute_result"
    }
   ],
   "source": [
    "# Save the best model on AzureML\n",
    "\n",
    "model = remote_run.register_model(model_name=\"Debts-AutoML-bestmodel\", description=\"The best model for Debts dataset using the AutoML\")\n",
    "\n",
    "# Save the best model on disk\n",
    "\n",
    "joblib.dump(fitted_model, 'Debts-AutoML-bestmodel.pkl')"
   ]
  },
  {
   "cell_type": "code",
   "execution_count": 41,
   "metadata": {},
   "outputs": [],
   "source": [
    "# Save the best model in ONXX format\n",
    "\n",
    "best_run, onnx_mdl = remote_run.get_output(return_onnx_model=True)\n",
    "\n",
    "from azureml.automl.runtime.onnx_convert import OnnxConverter\n",
    "\n",
    "onnx_fl_path = \"./Debts-AutoML-bestmodel.onnx\"\n",
    "OnnxConverter.save_onnx_model(onnx_mdl, onnx_fl_path)"
   ]
  },
  {
   "cell_type": "markdown",
   "metadata": {},
   "source": [
    "## Model Deployment\n",
    "\n",
    "Remember you have to deploy only one of the two models you trained but you still need to register both the models. Perform the steps in the rest of this notebook only if you wish to deploy this model.\n",
    "\n",
    "TODO: In the cell below, register the model, create an inference config and deploy the model as a web service."
   ]
  },
  {
   "cell_type": "code",
   "execution_count": null,
   "metadata": {},
   "outputs": [],
   "source": [
    "# based on https://github.com/Azure/MachineLearningNotebooks/blob/master/how-to-use-azureml/ml-frameworks/keras/train-hyperparameter-tune-deploy-with-keras/train-hyperparameter-tune-deploy-with-keras.ipynb\n",
    "\n",
    "# create score.py"
   ]
  },
  {
   "cell_type": "code",
   "execution_count": 17,
   "metadata": {
    "gather": {
     "logged": 1598431435189
    },
    "jupyter": {
     "outputs_hidden": false,
     "source_hidden": false
    },
    "nteract": {
     "transient": {
      "deleting": false
     }
    }
   },
   "outputs": [
    {
     "name": "stdout",
     "output_type": "stream",
     "text": [
      "Writing score.py\n"
     ]
    }
   ],
   "source": [
    "%%writefile score.py\n",
    "import json\n",
    "import logging\n",
    "import os\n",
    "import pickle\n",
    "import numpy as np\n",
    "import pandas as pd\n",
    "import joblib\n",
    "\n",
    "import azureml.automl.core\n",
    "from azureml.automl.core.shared import logging_utilities, log_server\n",
    "from azureml.telemetry import INSTRUMENTATION_KEY\n",
    "\n",
    "from inference_schema.schema_decorators import input_schema, output_schema\n",
    "from inference_schema.parameter_types.numpy_parameter_type import NumpyParameterType\n",
    "from inference_schema.parameter_types.pandas_parameter_type import PandasParameterType\n",
    "from inference_schema.parameter_types.standard_py_parameter_type import StandardPythonParameterType\n",
    "\n",
    "data_sample = PandasParameterType(pd.DataFrame({\"TIPO_PES\": pd.Series([\"example_value\"], dtype=\"object\"), \"SEXO_PES\": pd.Series([\"example_value\"], dtype=\"object\"), \"ESTADO_CIVIL_PES\": pd.Series([\"example_value\"], dtype=\"object\"), \"IDADE\": pd.Series([0.0], dtype=\"float32\"), \"VALOR_TOTAL\": pd.Series([0.0], dtype=\"float32\"), \"ATRASO\": pd.Series([0], dtype=\"int16\"), \"NOME_TIPE\": pd.Series([\"example_value\"], dtype=\"object\"), \"TEVE_DEVOL\": pd.Series([0], dtype=\"int8\"), \"CIDADES\": pd.Series([\"example_value\"], dtype=\"object\"), \"UF\": pd.Series([\"example_value\"], dtype=\"object\")}))\n",
    "input_sample = StandardPythonParameterType({'data': data_sample})\n",
    "method_sample = StandardPythonParameterType(\"predict\")\n",
    "sample_global_params = StandardPythonParameterType({\"method\": method_sample})\n",
    "\n",
    "result_sample = NumpyParameterType(np.array([0]))\n",
    "output_sample = StandardPythonParameterType({'Results':result_sample})\n",
    "\n",
    "try:\n",
    "    log_server.enable_telemetry(INSTRUMENTATION_KEY)\n",
    "    log_server.set_verbosity('INFO')\n",
    "    logger = logging.getLogger('azureml.automl.core.scoring_script_v2')\n",
    "except:\n",
    "    pass\n",
    "\n",
    "\n",
    "def init():\n",
    "    global model\n",
    "    # This name is model.id of model that we want to deploy deserialize the model file back\n",
    "    # into a sklearn model\n",
    "    model_path = os.path.join(os.getenv('AZUREML_MODEL_DIR'), 'model.pkl')\n",
    "    path = os.path.normpath(model_path)\n",
    "    path_split = path.split(os.sep)\n",
    "    log_server.update_custom_dimensions({'model_name': path_split[-3], 'model_version': path_split[-2]})\n",
    "    try:\n",
    "        logger.info(\"Loading model from path.\")\n",
    "        model = joblib.load(model_path)\n",
    "        logger.info(\"Loading successful.\")\n",
    "    except Exception as e:\n",
    "        logging_utilities.log_traceback(e, logger)\n",
    "        raise\n",
    "\n",
    "@input_schema('GlobalParameters', sample_global_params, convert_to_provided_type=False)\n",
    "@input_schema('Inputs', input_sample)\n",
    "@output_schema(output_sample)\n",
    "def run(Inputs, GlobalParameters={\"method\": \"predict\"}):\n",
    "    data = Inputs['data']\n",
    "    if GlobalParameters.get(\"method\", None) == \"predict_proba\":\n",
    "        result = model.predict_proba(data)\n",
    "    elif GlobalParameters.get(\"method\", None) == \"predict\":\n",
    "        result = model.predict(data)\n",
    "    else:\n",
    "        raise Exception(f\"Invalid predict method argument received. GlobalParameters: {GlobalParameters}\")\n",
    "    if isinstance(result, pd.DataFrame):\n",
    "        result = result.values\n",
    "    return {'Results':result.tolist()}"
   ]
  },
  {
   "cell_type": "code",
   "execution_count": 42,
   "metadata": {},
   "outputs": [
    {
     "name": "stdout",
     "output_type": "stream",
     "text": [
      "Tips: You can try get_logs(): https://aka.ms/debugimage#dockerlog or local deployment: https://aka.ms/debugimage#debug-locally to debug if deployment takes longer than 10 minutes.\n",
      "Running\n",
      "2024-05-16 23:20:00+00:00 Creating Container Registry if not exists.\n",
      "2024-05-16 23:20:01+00:00 Registering the environment.\n",
      "2024-05-16 23:20:04+00:00 Use the existing image.\n",
      "2024-05-16 23:20:04+00:00 Generating deployment configuration.\n",
      "2024-05-16 23:20:05+00:00 Submitting deployment to compute.\n",
      "2024-05-16 23:20:12+00:00 Checking the status of deployment debts-automl-endpoint..\n",
      "2024-05-16 23:25:02+00:00 Checking the status of inference endpoint debts-automl-endpoint.\n",
      "Succeeded\n",
      "ACI service creation operation finished, operation \"Succeeded\"\n"
     ]
    }
   ],
   "source": [
    "# publish the webservice in ACI, with authentication and enable_app_insights enabled\n",
    "\n",
    "service_name=\"debts-automl-endpoint\"\n",
    "\n",
    "env = Environment.from_conda_specification(name=\"env\", file_path=\"env.yml\")\n",
    "inference_config = InferenceConfig(entry_script=\"score.py\", environment=env)\n",
    "\n",
    "aciconfig = AciWebservice.deploy_configuration(cpu_cores=1.0,\n",
    "                                               auth_enabled=True,\n",
    "                                               memory_gb=4.0,\n",
    "                                               enable_app_insights=True,\n",
    "                                               description='Debts Dataset AutoML best model endpoint')\n",
    "\n",
    "service = Model.deploy(workspace=ws, \n",
    "                           name=service_name, \n",
    "                           models=[model], \n",
    "                           inference_config=inference_config, \n",
    "                           deployment_config=aciconfig)\n",
    "\n",
    "service.wait_for_deployment(True)"
   ]
  },
  {
   "cell_type": "code",
   "execution_count": 43,
   "metadata": {},
   "outputs": [
    {
     "name": "stdout",
     "output_type": "stream",
     "text": [
      "Service State: Healthy\n",
      "Service REST URL: http://1166ccdb-59a1-4bb5-b907-9f243f1bed36.westus2.azurecontainer.io/score\n",
      "Service Keys:('onAfNC6TLsPx05QtMtcGlTGU88aaRYxD', 'bK2C0d6AROudThHJZ1XPVhBhjKYBmjSj')\n"
     ]
    }
   ],
   "source": [
    "print(\"Service State: \" + service.state)\n",
    "print(\"Service REST URL: \" + service.scoring_uri)\n",
    "print(\"Service Keys:\" + str(service.get_keys()))"
   ]
  },
  {
   "cell_type": "markdown",
   "metadata": {
    "collapsed": true,
    "gather": {
     "logged": 1598431657736
    },
    "jupyter": {
     "outputs_hidden": false,
     "source_hidden": false
    },
    "nteract": {
     "transient": {
      "deleting": false
     }
    }
   },
   "source": [
    "TODO: In the cell below, send a request to the web service you deployed to test it."
   ]
  },
  {
   "cell_type": "code",
   "execution_count": 47,
   "metadata": {},
   "outputs": [
    {
     "name": "stdout",
     "output_type": "stream",
     "text": [
      "b'{\"Results\": [1]}'\n"
     ]
    }
   ],
   "source": [
    "# Run a sample data by the consume sample\n",
    "\n",
    "import urllib.request\n",
    "import json\n",
    "import os\n",
    "import ssl\n",
    "\n",
    "def allowSelfSignedHttps(allowed):\n",
    "    # bypass the server certificate verification on client side\n",
    "    if allowed and not os.environ.get('PYTHONHTTPSVERIFY', '') and getattr(ssl, '_create_unverified_context', None):\n",
    "        ssl._create_default_https_context = ssl._create_unverified_context\n",
    "\n",
    "allowSelfSignedHttps(True) # this line is needed if you use self-signed certificate in your scoring service.\n",
    "\n",
    "# Request data goes here\n",
    "# The example below assumes JSON formatting which may be updated\n",
    "# depending on the format your endpoint expects.\n",
    "# More information can be found here:\n",
    "# https://docs.microsoft.com/azure/machine-learning/how-to-deploy-advanced-entry-script\n",
    "data =  {\n",
    "  \"Inputs\": {\n",
    "    \"data\": [\n",
    "      {\n",
    "            \"TIPO_PES\": \"F\",\n",
    "            \"SEXO_PES\": \"F\",\n",
    "            \"ESTADO_CIVIL_PES\": \"2\",\n",
    "            \"IDADE\": 46.0,\n",
    "            \"VALOR_TOTAL\": 288.79,\n",
    "            \"ATRASO\": 175,\n",
    "            \"NOME_TIPE\": \"RESIDENCIAL\",\n",
    "            \"TEVE_DEVOL\": 0,\n",
    "            \"CIDADES\": \"MANAUS\",\n",
    "            \"UF\": \"AM\"\n",
    "      }\n",
    "    ]\n",
    "  },\n",
    "  \"GlobalParameters\": {\n",
    "    \"method\": \"predict\"\n",
    "  }\n",
    "}\n",
    "\n",
    "body = str.encode(json.dumps(data))\n",
    "\n",
    "url = service.scoring_uri\n",
    "# Replace this with the primary/secondary key, AMLToken, or Microsoft Entra ID token for the endpoint\n",
    "api_key = service.get_keys()[0]\n",
    "if not api_key:\n",
    "    raise Exception(\"A key should be provided to invoke the endpoint\")\n",
    "\n",
    "\n",
    "headers = {'Content-Type':'application/json', 'Authorization':('Bearer '+ api_key)}\n",
    "\n",
    "req = urllib.request.Request(url, body, headers)\n",
    "\n",
    "try:\n",
    "    response = urllib.request.urlopen(req)\n",
    "\n",
    "    result = response.read()\n",
    "    print(result)\n",
    "except urllib.error.HTTPError as error:\n",
    "    print(\"The request failed with status code: \" + str(error.code))\n",
    "\n",
    "    # Print the headers - they include the requert ID and the timestamp, which are useful for debugging the failure\n",
    "    print(error.info())\n",
    "    print(error.read().decode(\"utf8\", 'ignore'))"
   ]
  },
  {
   "cell_type": "markdown",
   "metadata": {
    "collapsed": true,
    "gather": {
     "logged": 1598432765711
    },
    "jupyter": {
     "outputs_hidden": false,
     "source_hidden": false
    },
    "nteract": {
     "transient": {
      "deleting": false
     }
    }
   },
   "source": [
    "TODO: In the cell below, print the logs of the web service and delete the service"
   ]
  },
  {
   "cell_type": "code",
   "execution_count": 38,
   "metadata": {
    "jupyter": {
     "outputs_hidden": false,
     "source_hidden": false
    },
    "nteract": {
     "transient": {
      "deleting": false
     }
    }
   },
   "outputs": [
    {
     "data": {
      "text/plain": [
       "'/bin/bash: /azureml-envs/azureml_54d5b9858d4d11617085aab4b1be851c/lib/libtinfo.so.6: no version information available (required by /bin/bash)\\n/bin/bash: /azureml-envs/azureml_54d5b9858d4d11617085aab4b1be851c/lib/libtinfo.so.6: no version information available (required by /bin/bash)\\n/bin/bash: /azureml-envs/azureml_54d5b9858d4d11617085aab4b1be851c/lib/libtinfo.so.6: no version information available (required by /bin/bash)\\n2024-05-16T20:43:03,069969462+00:00 - rsyslog/run \\n2024-05-16T20:43:03,077700446+00:00 - gunicorn/run \\nbash: /azureml-envs/azureml_54d5b9858d4d11617085aab4b1be851c/lib/libtinfo.so.6: no version information available (required by bash)\\n2024-05-16T20:43:03,079261630+00:00 | gunicorn/run | \\n2024-05-16T20:43:03,083487925+00:00 | gunicorn/run | ###############################################\\n2024-05-16T20:43:03,084992097+00:00 | gunicorn/run | AzureML Container Runtime Information\\n2024-05-16T20:43:03,088463725+00:00 | gunicorn/run | ###############################################\\n2024-05-16T20:43:03,091859663+00:00 | gunicorn/run | \\n2024-05-16T20:43:03,092839525+00:00 | gunicorn/run | \\n2024-05-16T20:43:03,097924180+00:00 - nginx/run \\n2024-05-16T20:43:03,100086101+00:00 | gunicorn/run | AzureML image information: openmpi4.1.0-ubuntu20.04, Materializaton Build:20230509.v1\\n2024-05-16T20:43:03,101772864+00:00 | gunicorn/run | \\n2024-05-16T20:43:03,103772333+00:00 | gunicorn/run | \\n2024-05-16T20:43:03,106741353+00:00 | gunicorn/run | PATH environment variable: /azureml-envs/azureml_54d5b9858d4d11617085aab4b1be851c/bin:/opt/miniconda/bin:/usr/local/sbin:/usr/local/bin:/usr/sbin:/usr/bin:/sbin:/bin\\n2024-05-16T20:43:03,109781085+00:00 | gunicorn/run | PYTHONPATH environment variable: \\n2024-05-16T20:43:03,111542508+00:00 | gunicorn/run | \\n2024-05-16T20:43:05,464750203+00:00 | gunicorn/run | CONDAPATH environment variable: /opt/miniconda\\n\\n# conda environments:\\n#\\n                      *  /azureml-envs/azureml_54d5b9858d4d11617085aab4b1be851c\\nbase                     /opt/miniconda\\n\\n2024-05-16T20:43:06,841834122+00:00 | gunicorn/run | \\n2024-05-16T20:43:06,843030328+00:00 | gunicorn/run | Pip Dependencies (before dynamic installation)\\n\\nadal==1.2.7\\napplicationinsights==0.11.10\\narch==5.3.1\\nargcomplete==2.1.2\\nattrs==23.2.0\\nazure-common==1.1.28\\nazure-core==1.30.1\\nazure-graphrbac==0.61.1\\nazure-identity==1.16.0\\nazure-mgmt-authorization==3.0.0\\nazure-mgmt-containerregistry==10.3.0\\nazure-mgmt-core==1.4.0\\nazure-mgmt-keyvault==10.3.0\\nazure-mgmt-resource==22.0.0\\nazure-mgmt-storage==21.0.0\\nazure-storage-blob==12.13.0\\nazure-storage-queue==12.10.0\\nazureml-automl-core==1.52.0.post1\\nazureml-automl-runtime==1.52.0.post1\\nazureml-core==1.52.0\\nazureml-dataprep==4.11.7\\nazureml-dataprep-native==38.0.0\\nazureml-dataprep-rslex==2.18.7\\nazureml-dataset-runtime==1.52.0\\nazureml-defaults==1.52.0\\nazureml-inference-server-http==0.8.4.2\\nazureml-interpret==1.52.0\\nazureml-mlflow==1.52.0\\nazureml-telemetry==1.52.0\\nazureml-train-automl-client==1.52.0\\nazureml-train-automl-runtime==1.52.0\\nazureml-train-core==1.52.0\\nazureml-train-restclients-hyperdrive==1.52.0\\nazureml-training-tabular==1.52.0\\nbackports.tempfile==1.0\\nbackports.weakref==1.0.post1\\nbcrypt==4.1.3\\nbokeh==2.4.3\\nboto==2.49.0\\nboto3==1.20.19\\nbotocore==1.23.19\\ncachetools==5.3.3\\ncertifi==2024.2.2\\ncffi==1.16.0\\ncharset-normalizer==3.3.2\\nclick==8.1.7\\ncloudpickle==2.2.1\\ncontextlib2==21.6.0\\ncontourpy @ file:///opt/conda/conda-bld/contourpy_1663827406301/work\\nconvertdate @ file:///tmp/build/80754af9/convertdate_1634070773133/work\\ncryptography==41.0.7\\ncycler @ file:///tmp/build/80754af9/cycler_1637851556182/work\\nCython==0.29.17\\ndask==2023.2.0\\ndataclasses==0.6\\ndill==0.3.8\\ndistributed==2023.2.0\\ndistro==1.9.0\\ndocker==6.1.3\\ndotnetcore2==3.1.23\\nentrypoints==0.4\\nephem @ file:///tmp/build/80754af9/ephem_1638942191467/work\\nfbprophet @ file:///home/conda/feedstock_root/build_artifacts/fbprophet_1599365532360/work\\nfire==0.6.0\\nFlask==2.2.5\\nFlask-Cors==3.0.10\\nflatbuffers==24.3.25\\nfonttools==4.25.0\\nfsspec==2024.5.0\\nfusepy==3.0.1\\ngensim==3.8.3\\ngitdb==4.0.11\\nGitPython==3.1.43\\ngoogle-api-core==2.19.0\\ngoogle-auth==2.29.0\\ngoogleapis-common-protos==1.63.0\\ngunicorn==20.1.0\\nholidays @ file:///home/conda/feedstock_root/build_artifacts/holidays_1595448845196/work\\nhumanfriendly==10.0\\nidna==3.7\\nimportlib-resources @ file:///croot/importlib_resources_1698254628495/work\\nimportlib_metadata==7.1.0\\ninference-schema==1.7.2\\ninterpret-community==0.29.0\\ninterpret-core==0.3.2\\nisodate==0.6.1\\nitsdangerous==2.2.0\\njeepney==0.8.0\\nJinja2==3.1.4\\njmespath==0.10.0\\njoblib @ file:///croot/joblib_1685113087166/work\\njsonpickle==3.0.4\\njsonschema==4.22.0\\njsonschema-specifications==2023.12.1\\nkeras2onnx==1.6.0\\nkiwisolver @ file:///croot/kiwisolver_1672387140495/work\\nknack==0.10.1\\nkorean-lunar-calendar @ file:///tmp/build/80754af9/korean_lunar_calendar_1634063020401/work\\nlightgbm==3.2.1\\nllvmlite==0.38.1\\nlocket==1.0.0\\nLunarCalendar @ file:///tmp/build/80754af9/lunarcalendar_1646383991234/work\\nMarkupSafe==2.1.5\\nmatplotlib @ file:///croot/matplotlib-suite_1693812469450/work\\nml-wrappers==0.4.13\\nmlflow-skinny==2.12.2\\nmsal==1.28.0\\nmsal-extensions==1.0.0\\nmsgpack==1.0.8\\nmsrest==0.7.1\\nmsrestazure==0.6.4\\nmunkres==1.1.4\\nndg-httpsclient==0.5.1\\nnumba==0.55.2\\nnumpy @ file:///opt/conda/conda-bld/numpy_and_numpy_base_1652801679809/work\\noauthlib==3.2.2\\nonnx==1.13.1\\nonnxconverter-common==1.6.0\\nonnxmltools==1.4.1\\nonnxruntime==1.11.1\\nopencensus==0.11.4\\nopencensus-context==0.1.3\\nopencensus-ext-azure==1.1.13\\npackaging==23.0\\npandas==1.1.5\\nparamiko==3.4.0\\npartd==1.4.1\\npathspec==0.12.1\\npatsy==0.5.6\\nPillow @ file:///croot/pillow_1696580024257/work\\npkginfo==1.10.0\\npkgutil_resolve_name==1.3.10\\nply==3.11\\npmdarima==1.8.0\\nportalocker==2.8.2\\nproperty-cached==1.6.4\\nproto-plus==1.23.0\\nprotobuf==3.20.3\\npsutil @ file:///home/conda/feedstock_root/build_artifacts/psutil_1695367190297/work\\npyarrow==11.0.0\\npyasn1==0.6.0\\npyasn1_modules==0.4.0\\npycparser==2.22\\npydantic==1.10.15\\nPygments==2.18.0\\nPyJWT==2.8.0\\nPyMeeus @ file:///tmp/build/80754af9/pymeeus_1634069098549/work\\nPyNaCl==1.5.0\\npyOpenSSL==23.3.0\\npyparsing @ file:///opt/conda/conda-bld/pyparsing_1661452539315/work\\nPyQt5==5.15.10\\nPyQt5-sip @ file:///croot/pyqt-split_1698769088074/work/pyqt_sip\\nPySocks==1.7.1\\npystan==2.18.0.0\\npython-dateutil @ file:///tmp/build/80754af9/python-dateutil_1626374649649/work\\npytz @ file:///croot/pytz_1695131579487/work\\nPyYAML==6.0.1\\nraiutils==0.4.2\\nreferencing==0.35.1\\nrequests==2.31.0\\nrequests-oauthlib==2.0.0\\nrpds-py==0.18.1\\nrsa==4.9\\ns3transfer==0.5.2\\nscikit-learn==0.22.1\\nscipy==1.5.3\\nSecretStorage==3.3.3\\nshap==0.41.0\\nsip @ file:///croot/sip_1698675935381/work\\nsix @ file:///tmp/build/80754af9/six_1644875935023/work\\nskl2onnx==1.4.9\\nsklearn-pandas==1.7.0\\nslicer==0.0.7\\nsmart-open==1.9.0\\nsmmap==5.0.1\\nsortedcontainers==2.4.0\\nsqlparse==0.5.0\\nstatsmodels==0.11.1\\ntabulate==0.9.0\\ntblib==3.0.0\\ntermcolor==2.4.0\\ntomli @ file:///opt/conda/conda-bld/tomli_1657175507142/work\\ntoolz==0.12.1\\ntornado @ file:///croot/tornado_1696936946304/work\\ntqdm @ file:///croot/tqdm_1679561862951/work\\ntyping_extensions==4.11.0\\nurllib3==1.26.18\\nwebsocket-client==1.8.0\\nWerkzeug==3.0.3\\nwrapt==1.16.0\\nxgboost==1.3.3\\nzict==3.0.0\\nzipp @ file:///croot/zipp_1672387121353/work\\n\\n2024-05-16T20:43:07,796709425+00:00 | gunicorn/run | \\n2024-05-16T20:43:07,797798320+00:00 | gunicorn/run | ###############################################\\n2024-05-16T20:43:07,798847512+00:00 | gunicorn/run | Checking if the Python package azureml-inference-server-http is installed\\n2024-05-16T20:43:07,799727136+00:00 | gunicorn/run | ###############################################\\n2024-05-16T20:43:07,800802406+00:00 | gunicorn/run | \\n2024-05-16T20:43:09,709230030+00:00 | gunicorn/run | \\n2024-05-16T20:43:09,710341778+00:00 | gunicorn/run | ###############################################\\n2024-05-16T20:43:09,711412179+00:00 | gunicorn/run | AzureML Inference Server\\n2024-05-16T20:43:09,716589896+00:00 | gunicorn/run | ###############################################\\n2024-05-16T20:43:09,717739024+00:00 | gunicorn/run | \\n2024-05-16T20:43:11,664333768+00:00 | gunicorn/run | Starting AzureML Inference Server HTTP.\\n2024-05-16 20:43:11,911 I [84] azmlinfsrv - Loaded logging config from /azureml-envs/azureml_54d5b9858d4d11617085aab4b1be851c/lib/python3.8/site-packages/azureml_inference_server_http/logging.json\\n2024-05-16 20:43:12,046 I [84] gunicorn.error - Starting gunicorn 20.1.0\\n2024-05-16 20:43:12,047 I [84] gunicorn.error - Listening at: http://0.0.0.0:31311 (84)\\n2024-05-16 20:43:12,047 I [84] gunicorn.error - Using worker: sync\\n2024-05-16 20:43:12,049 I [140] gunicorn.error - Booting worker with pid: 140\\nValid Application Insights instrumentation key provided.\\n\\nAzure ML Inferencing HTTP server v0.8.4.2\\n\\n\\nServer Settings\\n---------------\\nEntry Script Name: /var/azureml-app/score.py\\nModel Directory: /var/azureml-app/azureml-models/Debts-AutoML-bestmodel/1\\nConfig File: None\\nWorker Count: 1\\nWorker Timeout (seconds): 300\\nServer Port: 31311\\nHealth Port: 31311\\nApplication Insights Enabled: true\\nApplication Insights Key: AppInsights key provided\\nInferencing HTTP server version: azmlinfsrv/0.8.4.2\\nCORS for the specified origins: None\\nCreate dedicated endpoint for health: None\\n\\n\\nServer Routes\\n---------------\\nLiveness Probe: GET   127.0.0.1:31311/\\nScore:          POST  127.0.0.1:31311/score\\n\\n2024-05-16 20:43:12,582 I [140] azmlinfsrv - AML_FLASK_ONE_COMPATIBILITY is set. Patched Flask to ensure compatibility with Flask 1.\\nInitializing logger\\n2024-05-16 20:43:12,584 I [140] azmlinfsrv - Starting up app insights client\\nWARNING:opencensus.ext.azure.common:DeprecationWarning: Explicitly using instrumentation key isdeprecated. Please use a connection string instead.\\nWARNING:opencensus.ext.azure.common:DeprecationWarning: Explicitly using instrumentation key isdeprecated. Please use a connection string instead.\\nWARNING:opencensus.ext.azure.common:DeprecationWarning: Explicitly using instrumentation key isdeprecated. Please use a connection string instead.\\n2024-05-16 20:43:18,377 I [140] azmlinfsrv.user_script - Found user script at /var/azureml-app/score.py\\n2024-05-16 20:43:18,377 I [140] azmlinfsrv.user_script - run() is decorated with @input_schema. Server will invoke it with the following arguments: Inputs, GlobalParameters.\\n2024-05-16 20:43:18,378 I [140] azmlinfsrv.user_script - Invoking user\\'s init function\\nERROR:fbprophet.plot:Importing plotly failed. Interactive plots will not work.\\n2024-05-16 20:43:25,362 I [140] azmlinfsrv.user_script - Users\\'s init has completed successfully\\n2024-05-16 20:43:25,412 I [140] azmlinfsrv.swagger - Swaggers are prepared for the following versions: [2, 3, 3.1].\\n2024-05-16 20:43:25,412 I [140] azmlinfsrv - Scoring timeout is set to 60000\\n2024-05-16 20:43:25,412 I [140] azmlinfsrv - Worker with pid 140 ready for serving traffic\\n2024-05-16 20:43:25,435 W [140] azmlinfsrv - x-ms-request-id header has been deprecated and will be removed from future versions of the server. Please use x-ms-client-request-id.\\n2024-05-16 20:43:25,437 I [140] gunicorn.access - 127.0.0.1 - - [16/May/2024:20:43:25 +0000] \"GET / HTTP/1.0\" 200 7 \"-\" \"Go-http-client/1.1\"\\n2024-05-16 20:43:25,439 W [140] azmlinfsrv - x-ms-request-id header has been deprecated and will be removed from future versions of the server. Please use x-ms-client-request-id.\\n2024-05-16 20:43:25,440 I [140] gunicorn.access - 127.0.0.1 - - [16/May/2024:20:43:25 +0000] \"GET / HTTP/1.0\" 200 7 \"-\" \"Go-http-client/1.1\"\\n2024-05-16 20:43:25,449 W [140] azmlinfsrv - x-ms-request-id header has been deprecated and will be removed from future versions of the server. Please use x-ms-client-request-id.\\n2024-05-16 20:43:25,449 I [140] azmlinfsrv - GET /swagger.json 200 0.397ms 3528\\n2024-05-16 20:43:25,450 I [140] gunicorn.access - 127.0.0.1 - - [16/May/2024:20:43:25 +0000] \"GET /swagger.json HTTP/1.0\" 200 3528 \"-\" \"Go-http-client/1.1\"\\n2024-05-16 20:43:29,170 W [140] azmlinfsrv - x-ms-request-id header has been deprecated and will be removed from future versions of the server. Please use x-ms-client-request-id.\\n2024-05-16 20:43:29,171 I [140] gunicorn.access - 127.0.0.1 - - [16/May/2024:20:43:29 +0000] \"GET / HTTP/1.0\" 200 7 \"-\" \"Go-http-client/1.1\"\\n2024-05-16 20:43:29,176 W [140] azmlinfsrv - x-ms-request-id header has been deprecated and will be removed from future versions of the server. Please use x-ms-client-request-id.\\n2024-05-16 20:43:29,176 I [140] azmlinfsrv - GET /swagger.json 200 0.406ms 3528\\n2024-05-16 20:43:29,177 I [140] gunicorn.access - 127.0.0.1 - - [16/May/2024:20:43:29 +0000] \"GET /swagger.json HTTP/1.0\" 200 3528 \"-\" \"Go-http-client/1.1\"\\n2024-05-16 20:44:18,890 W [140] azmlinfsrv - x-ms-request-id header has been deprecated and will be removed from future versions of the server. Please use x-ms-client-request-id.\\n2024-05-16 20:44:18,891 I [140] gunicorn.access - 127.0.0.1 - - [16/May/2024:20:44:18 +0000] \"GET / HTTP/1.0\" 200 7 \"-\" \"Mozilla/5.0 (Windows NT 10.0; Win64; x64) AppleWebKit/537.36 (KHTML, like Gecko) Chrome/90.0.4430.85 Safari/537.36 Edg/90.0.818.46\"\\n2024-05-16 20:45:57,861 W [140] azmlinfsrv - x-ms-request-id header has been deprecated and will be removed from future versions of the server. Please use x-ms-client-request-id.\\n2024-05-16 20:45:57,862 I [140] azmlinfsrv - POST /score 400 0.649ms 96\\n2024-05-16 20:45:57,863 I [140] gunicorn.access - 127.0.0.1 - - [16/May/2024:20:45:57 +0000] \"POST /score HTTP/1.0\" 400 96 \"-\" \"python-requests/2.31.0\"\\n2024-05-16 20:49:32,532 W [140] azmlinfsrv - x-ms-request-id header has been deprecated and will be removed from future versions of the server. Please use x-ms-client-request-id.\\n2024-05-16 20:49:32,533 I [140] azmlinfsrv - POST /score 400 0.875ms 96\\n2024-05-16 20:49:32,534 I [140] gunicorn.access - 127.0.0.1 - - [16/May/2024:20:49:32 +0000] \"POST /score HTTP/1.0\" 400 96 \"-\" \"python-requests/2.31.0\"\\n2024-05-16 20:50:09,128 W [140] azmlinfsrv - x-ms-request-id header has been deprecated and will be removed from future versions of the server. Please use x-ms-client-request-id.\\n2024-05-16 20:50:09,129 I [140] gunicorn.access - 127.0.0.1 - - [16/May/2024:20:50:09 +0000] \"GET / HTTP/1.0\" 200 7 \"-\" \"Go-http-client/1.1\"\\n2024-05-16 20:50:09,132 W [140] azmlinfsrv - x-ms-request-id header has been deprecated and will be removed from future versions of the server. Please use x-ms-client-request-id.\\n2024-05-16 20:50:09,133 I [140] azmlinfsrv - GET /swagger.json 200 0.660ms 3528\\n2024-05-16 20:50:09,134 I [140] gunicorn.access - 127.0.0.1 - - [16/May/2024:20:50:09 +0000] \"GET /swagger.json HTTP/1.0\" 200 3528 \"-\" \"Go-http-client/1.1\"\\n2024-05-16 20:50:11,137 W [140] azmlinfsrv - x-ms-request-id header has been deprecated and will be removed from future versions of the server. Please use x-ms-client-request-id.\\n2024-05-16 20:50:11,138 I [140] azmlinfsrv - GET /swagger.json 200 0.639ms 3528\\n2024-05-16 20:50:11,139 I [140] gunicorn.access - 127.0.0.1 - - [16/May/2024:20:50:11 +0000] \"GET /swagger.json HTTP/1.0\" 200 3528 \"-\" \"Go-http-client/1.1\"\\n2024-05-16 20:50:11,817 W [140] azmlinfsrv - x-ms-request-id header has been deprecated and will be removed from future versions of the server. Please use x-ms-client-request-id.\\n2024-05-16 20:50:11,818 I [140] azmlinfsrv - GET /swagger.json 200 0.698ms 3528\\n2024-05-16 20:50:11,819 I [140] gunicorn.access - 127.0.0.1 - - [16/May/2024:20:50:11 +0000] \"GET /swagger.json HTTP/1.0\" 200 3528 \"-\" \"Go-http-client/1.1\"\\n2024-05-16 20:51:29,822 W [140] azmlinfsrv - x-ms-request-id header has been deprecated and will be removed from future versions of the server. Please use x-ms-client-request-id.\\n2024-05-16 20:51:29,823 I [140] azmlinfsrv - POST /score 400 1.253ms 96\\n2024-05-16 20:51:29,826 I [140] gunicorn.access - 127.0.0.1 - - [16/May/2024:20:51:29 +0000] \"POST /score HTTP/1.0\" 400 96 \"-\" \"python-requests/2.31.0\"\\n2024-05-16 20:53:06,774 W [140] azmlinfsrv - x-ms-request-id header has been deprecated and will be removed from future versions of the server. Please use x-ms-client-request-id.\\n2024-05-16 20:53:06,993 I [140] azmlinfsrv - POST /score 200 219.028ms 16\\n2024-05-16 20:53:06,995 I [140] gunicorn.access - 127.0.0.1 - - [16/May/2024:20:53:06 +0000] \"POST /score HTTP/1.0\" 200 16 \"-\" \"Python-urllib/3.8\"\\n2024-05-16 20:54:07,858 W [140] azmlinfsrv - x-ms-request-id header has been deprecated and will be removed from future versions of the server. Please use x-ms-client-request-id.\\n2024-05-16 20:54:07,858 I [140] azmlinfsrv - POST /score 400 0.368ms 96\\n2024-05-16 20:54:07,859 I [140] gunicorn.access - 127.0.0.1 - - [16/May/2024:20:54:07 +0000] \"POST /score HTTP/1.0\" 400 96 \"-\" \"python-requests/2.31.0\"\\n2024-05-16 20:56:30,295 W [140] azmlinfsrv - x-ms-request-id header has been deprecated and will be removed from future versions of the server. Please use x-ms-client-request-id.\\n2024-05-16 20:56:30,444 I [140] azmlinfsrv - POST /score 200 148.801ms 16\\n2024-05-16 20:56:30,445 I [140] gunicorn.access - 127.0.0.1 - - [16/May/2024:20:56:30 +0000] \"POST /score HTTP/1.0\" 200 16 \"-\" \"Python-urllib/3.8\"\\n2024-05-16 20:57:00,456 W [140] azmlinfsrv - x-ms-request-id header has been deprecated and will be removed from future versions of the server. Please use x-ms-client-request-id.\\n2024-05-16 20:57:00,457 I [140] azmlinfsrv - POST /score 400 0.605ms 96\\n2024-05-16 20:57:00,458 I [140] gunicorn.access - 127.0.0.1 - - [16/May/2024:20:57:00 +0000] \"POST /score HTTP/1.0\" 400 96 \"-\" \"python-requests/2.31.0\"\\n2024-05-16 20:57:31,640 W [140] azmlinfsrv - x-ms-request-id header has been deprecated and will be removed from future versions of the server. Please use x-ms-client-request-id.\\n2024-05-16 20:57:31,640 I [140] azmlinfsrv - POST /score 400 0.389ms 96\\n2024-05-16 20:57:31,641 I [140] gunicorn.access - 127.0.0.1 - - [16/May/2024:20:57:31 +0000] \"POST /score HTTP/1.0\" 400 96 \"-\" \"python-requests/2.31.0\"\\n2024-05-16 20:57:51,639 W [140] azmlinfsrv - x-ms-request-id header has been deprecated and will be removed from future versions of the server. Please use x-ms-client-request-id.\\n2024-05-16 20:57:51,750 I [140] azmlinfsrv - POST /score 200 109.790ms 16\\n2024-05-16 20:57:51,832 I [140] gunicorn.access - 127.0.0.1 - - [16/May/2024:20:57:51 +0000] \"POST /score HTTP/1.0\" 200 16 \"-\" \"Python-urllib/3.8\"\\n2024-05-16 20:58:26,299 W [140] azmlinfsrv - x-ms-request-id header has been deprecated and will be removed from future versions of the server. Please use x-ms-client-request-id.\\n2024-05-16 20:58:26,399 I [140] azmlinfsrv - POST /score 200 100.356ms 16\\n2024-05-16 20:58:26,400 I [140] gunicorn.access - 127.0.0.1 - - [16/May/2024:20:58:26 +0000] \"POST /score HTTP/1.0\" 200 16 \"-\" \"Python-urllib/3.8\"\\n'"
      ]
     },
     "execution_count": 38,
     "metadata": {},
     "output_type": "execute_result"
    }
   ],
   "source": [
    "logs = service.get_logs()\n",
    "logs"
   ]
  },
  {
   "cell_type": "code",
   "execution_count": 40,
   "metadata": {},
   "outputs": [
    {
     "name": "stdout",
     "output_type": "stream",
     "text": [
      "Running\n",
      "2024-05-16 23:10:04+00:00 Check and wait for operation (ddf4c6d5-e205-42f9-8274-4b5a1d0c3575) to finish.\n",
      "2024-05-16 23:10:07+00:00 Deleting service entity.\n",
      "Succeeded\n"
     ]
    }
   ],
   "source": [
    "# Deletion of the webservice\n",
    "\n",
    "service.delete()\n",
    "\n",
    "# Deletion of compute cluster\n",
    "\n",
    "compute_target.delete()"
   ]
  },
  {
   "cell_type": "markdown",
   "metadata": {},
   "source": [
    "**Submission Checklist**\n",
    "- I have registered the model.\n",
    "- I have deployed the model with the best accuracy as a webservice.\n",
    "- I have tested the webservice by sending a request to the model endpoint.\n",
    "- I have deleted the webservice and shutdown all the computes that I have used.\n",
    "- I have taken a screenshot showing the model endpoint as active.\n",
    "- The project includes a file containing the environment details.\n"
   ]
  },
  {
   "cell_type": "markdown",
   "metadata": {},
   "source": []
  }
 ],
 "metadata": {
  "kernel_info": {
   "name": "python3-azureml"
  },
  "kernelspec": {
   "display_name": "Python 3.8 - AzureML",
   "language": "python",
   "name": "python38-azureml"
  },
  "language_info": {
   "codemirror_mode": {
    "name": "ipython",
    "version": 3
   },
   "file_extension": ".py",
   "mimetype": "text/x-python",
   "name": "python",
   "nbconvert_exporter": "python",
   "pygments_lexer": "ipython3",
   "version": "3.8.5"
  },
  "nteract": {
   "version": "nteract-front-end@1.0.0"
  }
 },
 "nbformat": 4,
 "nbformat_minor": 2
}
